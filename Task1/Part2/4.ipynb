{
 "cells": [
  {
   "cell_type": "code",
   "execution_count": 39,
   "id": "f7db2a8e",
   "metadata": {},
   "outputs": [],
   "source": [
    "import numpy as np\n",
    "import matplotlib.pyplot as plt"
   ]
  },
  {
   "cell_type": "code",
   "execution_count": 40,
   "id": "8f6a55bc",
   "metadata": {},
   "outputs": [],
   "source": [
    "def GenerateRandomUniform(N: int, theta: float):\n",
    "    array = np.random.uniform(theta, 2 * theta, N)\n",
    "    array.sort()\n",
    "    return array"
   ]
  },
  {
   "cell_type": "code",
   "execution_count": 41,
   "id": "099b97dc",
   "metadata": {},
   "outputs": [
    {
     "name": "stdout",
     "output_type": "stream",
     "text": [
      "Сгенерированная выборка =  [2.02785926 2.0747195  2.08888995 2.17043031 2.17845078 2.19951243\n",
      " 2.22422716 2.22537142 2.22545715 2.23237675 2.23596394 2.27472474\n",
      " 2.27636313 2.27921655 2.29041555 2.30157953 2.35716186 2.36119565\n",
      " 2.36936678 2.37360856 2.3853467  2.4135785  2.41582623 2.41749375\n",
      " 2.4460744  2.45633377 2.47202676 2.48317686 2.50146499 2.50201332\n",
      " 2.53769789 2.56184117 2.56538416 2.58852336 2.59543266 2.59719306\n",
      " 2.61532142 2.6270011  2.67717604 2.67968044 2.74346835 2.7836777\n",
      " 2.81455964 2.83287987 2.85600608 2.88501416 2.89852508 2.90503508\n",
      " 2.92618198 2.93937728 2.94528632 2.96140689 2.97217993 2.99527208\n",
      " 3.01121585 3.03023794 3.06367607 3.06956241 3.08144175 3.09880122\n",
      " 3.12605781 3.13266822 3.17086379 3.17786555 3.19181153 3.19998418\n",
      " 3.21658698 3.21945394 3.22493081 3.25254962 3.25538761 3.25949077\n",
      " 3.27345101 3.30008318 3.31446065 3.35730138 3.38542395 3.4043366\n",
      " 3.44704197 3.50210145 3.52584518 3.5319587  3.56229277 3.58677175\n",
      " 3.63301891 3.63398104 3.67556674 3.70344674 3.71518163 3.7383088\n",
      " 3.74472895 3.80493503 3.80644495 3.81171335 3.84639791 3.85167139\n",
      " 3.89038708 3.89356256 3.93918091 3.94070819]\n"
     ]
    }
   ],
   "source": [
    "N = 100\n",
    "theta = 2\n",
    "generated = GenerateRandomUniform(N, theta)\n",
    "print(\"Сгенерированная выборка = \", generated)"
   ]
  },
  {
   "cell_type": "markdown",
   "id": "0ca75acd",
   "metadata": {},
   "source": [
    "## Точный доверительный интервал "
   ]
  },
  {
   "cell_type": "code",
   "execution_count": 42,
   "id": "7f458bba",
   "metadata": {},
   "outputs": [],
   "source": [
    "def ConfidenceIntervalАccurateTheta(x):\n",
    "    x_avg = np.mean(x)\n",
    "    n = len(x)\n",
    "    left = x_avg * 12 ** 0.5 / (27 ** 0.5 + 1.96 / n ** 0.5)\n",
    "    right = x_avg * 12 ** 0.5 / (27 ** 0.5 - 1.96 / n ** 0.5)\n",
    "    return (left, right)"
   ]
  },
  {
   "cell_type": "code",
   "execution_count": 43,
   "id": "d9aa2349",
   "metadata": {
    "scrolled": true
   },
   "outputs": [
    {
     "name": "stdout",
     "output_type": "stream",
     "text": [
      "1.891114977151148 2.0393738717553984\n",
      "Точный доверительный интервал. Длина = 0.14825889460425046\n"
     ]
    }
   ],
   "source": [
    "a, b = ConfidenceIntervalАccurateTheta(generated)\n",
    "print(a, b)\n",
    "print(\"Точный доверительный интервал. Длина =\", b - a)"
   ]
  },
  {
   "cell_type": "markdown",
   "id": "f8bdc45e",
   "metadata": {},
   "source": [
    "## Асимптотический доверительный интервал. ОММ"
   ]
  },
  {
   "cell_type": "code",
   "execution_count": 53,
   "id": "d183ff83",
   "metadata": {},
   "outputs": [],
   "source": [
    "def ConfidenceIntervalAsymptoticThetaOMM(x):\n",
    "    x_avg = np.mean(x)\n",
    "    g_alpha = 2 / 3 * x_avg  \n",
    "    n = len(x)\n",
    "    alpha_1 = x_avg\n",
    "    alpha_2 = np.mean(x * x)\n",
    "    same_part =  1.96 * 2 * np.sqrt(alpha_2 - alpha_1 ** 2) / n ** 0.5 / 3\n",
    "    left = - same_part + g_alpha\n",
    "    right = same_part + g_alpha\n",
    "    return (left, right)"
   ]
  },
  {
   "cell_type": "code",
   "execution_count": 54,
   "id": "66e0bee5",
   "metadata": {},
   "outputs": [
    {
     "name": "stdout",
     "output_type": "stream",
     "text": [
      "1.8916285861812134 2.0332679049616442\n",
      "Асимптотический ОММ. Длина = 0.1416393187804308\n"
     ]
    }
   ],
   "source": [
    "a, b = ConfidenceIntervalAsymptoticThetaOMM(generated)\n",
    "print(a, b)\n",
    "print(\"Асимптотический ОММ. Длина =\", b - a)"
   ]
  },
  {
   "cell_type": "markdown",
   "id": "ebb33e74",
   "metadata": {},
   "source": [
    "## Bootstrap"
   ]
  },
  {
   "cell_type": "code",
   "execution_count": 55,
   "id": "f427856b",
   "metadata": {},
   "outputs": [],
   "source": [
    "def BootstrapGenerate(data, n_bootstrap_samples=1000):\n",
    "    return [np.random.choice(data, size=len(data), replace=True) for _ in range(n_bootstrap_samples)]"
   ]
  },
  {
   "cell_type": "code",
   "execution_count": 56,
   "id": "42047799",
   "metadata": {},
   "outputs": [],
   "source": [
    "def UniformGenerate(x, N):\n",
    "    theta = max(x) / 2\n",
    "    return [GenerateRandomUniform(len(x), theta) for _ in range(N)]\n",
    "\n",
    "def BootstrapParametricTheta(x):\n",
    "    N = 50000\n",
    "    generated_with_model = UniformGenerate(x, N)\n",
    "    theta_stars = []\n",
    "    for current_sample in generated_with_model:\n",
    "        theta_stars.append(np.mean(current_sample) * 2 / 3)\n",
    "    theta_stars = np.sort(theta_stars)\n",
    "    k1 = int((1 - 0.95) * N / 2) - 1\n",
    "    k2 = int((1 + 0.95) * N / 2) - 1 \n",
    "    return theta_stars[k1], theta_stars[k2]"
   ]
  },
  {
   "cell_type": "code",
   "execution_count": 65,
   "id": "0d2bd3e1",
   "metadata": {},
   "outputs": [
    {
     "name": "stdout",
     "output_type": "stream",
     "text": [
      "1.8956892664332872 2.0453669876304894\n",
      "Параметрический bootstrap. Оценка - ОММ. Длина = 0.14967772119720224\n"
     ]
    }
   ],
   "source": [
    "a, b = BootstrapParametricTheta(generated)\n",
    "print(a, b)\n",
    "print(\"Параметрический bootstrap. Оценка - ОММ. Длина =\", b - a)"
   ]
  },
  {
   "cell_type": "code",
   "execution_count": 81,
   "id": "1885b573",
   "metadata": {},
   "outputs": [],
   "source": [
    "def BootstrapNonParametricTheta(sample):\n",
    "    bootstrap_generated = BootstrapGenerate(sample, 1000)\n",
    "    theta_star = 2 / 3  * np.mean(sample)\n",
    "    delts = []\n",
    "    for current_sample in bootstrap_generated:\n",
    "        delts.append(2 / 3 * np.mean(current_sample) - theta_star)\n",
    "    delts.sort()\n",
    "    return (-delts[974] + theta_star , -delts[24] + theta_star)"
   ]
  },
  {
   "cell_type": "code",
   "execution_count": 82,
   "id": "6e9df6c8",
   "metadata": {},
   "outputs": [
    {
     "name": "stdout",
     "output_type": "stream",
     "text": [
      "1.8970295666490893 2.0365506992835485\n",
      "Непараметрический bootstrap. Оценка - ОММ. Длина = 0.1395211326344592\n"
     ]
    }
   ],
   "source": [
    "a, b = BootstrapNonParametricTheta(generated)\n",
    "print(a, b)\n",
    "print(\"Непараметрический bootstrap. Оценка - ОММ. Длина =\", b - a)"
   ]
  },
  {
   "cell_type": "markdown",
   "id": "2370db59",
   "metadata": {},
   "source": [
    "## Сравнение доверительных интервалов"
   ]
  },
  {
   "cell_type": "code",
   "execution_count": 83,
   "id": "97fd4be1",
   "metadata": {},
   "outputs": [],
   "source": [
    "def Compare(sample, func_list, names_list):\n",
    "    h = 0\n",
    "    for f in func_list:\n",
    "        left, right = f(sample)\n",
    "        x = np.linspace(left, right, len(sample))\n",
    "        y = [h] * len(x)\n",
    "        plt.plot(x, y)\n",
    "        h -= 0.1 \n",
    "    plt.legend(names_list)\n",
    "    ax = plt.gca()\n",
    "    ax.get_yaxis().set_visible(False)"
   ]
  },
  {
   "cell_type": "code",
   "execution_count": 84,
   "id": "74b26814",
   "metadata": {},
   "outputs": [
    {
     "data": {
      "image/png": "[encoded data removed]",
      "text/plain": [
       "<Figure size 640x480 with 1 Axes>"
      ]
     },
     "metadata": {},
     "output_type": "display_data"
    }
   ],
   "source": [
    "func_list = [ConfidenceIntervalАccurateTheta, BootstrapParametricTheta, BootstrapNonParametricTheta, ConfidenceIntervalAsymptoticThetaOMM]\n",
    "names_list = ['Точный', 'Парам b', 'Непарам b', 'ОММ']\n",
    "Compare(generated, func_list, names_list)"
   ]
  }
 ],
 "metadata": {
  "kernelspec": {
   "display_name": "Python 3 (ipykernel)",
   "language": "python",
   "name": "python3"
  },
  "language_info": {
   "codemirror_mode": {
    "name": "ipython",
    "version": 3
   },
   "file_extension": ".py",
   "mimetype": "text/x-python",
   "name": "python",
   "nbconvert_exporter": "python",
   "pygments_lexer": "ipython3",
   "version": "3.11.5"
  }
 },
 "nbformat": 4,
 "nbformat_minor": 5
}
