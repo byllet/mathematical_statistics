{
 "cells": [
  {
   "cell_type": "code",
   "execution_count": 2,
   "id": "a8b4ea9e",
   "metadata": {},
   "outputs": [],
   "source": [
    "import numpy as np\n",
    "import matplotlib.pyplot as plt\n",
    "from scipy.stats import t, f, norm"
   ]
  },
  {
   "cell_type": "code",
   "execution_count": 14,
   "id": "693091e7",
   "metadata": {},
   "outputs": [],
   "source": [
    "def PSIFunc(sample):\n",
    "    n = len(sample)\n",
    "    return sample[:, :-1]\n",
    "\n",
    "def FFunc(sample):\n",
    "    PSI = PSIFunc(sample)\n",
    "    return PSI.T @ PSI\n",
    "\n",
    "def BetaFunc(sample):\n",
    "    Y = sample[:, -1]\n",
    "    PSI = PSIFunc(sample)\n",
    "    F = FFunc(sample)\n",
    "    return np.array(np.linalg.inv(F) @ PSI.T @ Y)\n",
    "\n",
    "def EFunc(sample):\n",
    "    Y = sample[:, -1]\n",
    "    PSI = PSIFunc(sample)\n",
    "    return np.array(Y - PSI @ BetaFunc(sample))\n",
    "\n",
    "def RSSFunc(sample):\n",
    "    e = EFunc(sample)\n",
    "    return e @ e.T\n",
    "\n",
    "def TSSFunc(sample):\n",
    "    Y = sample[:, -1]\n",
    "    mean = np.mean(Y)\n",
    "    return np.sum((Y - mean) ** 2)\n",
    "\n",
    "def R2Func(sample):\n",
    "    tss = TSSFunc(sample)\n",
    "    rss = RSSFunc(sample)\n",
    "    return (tss - rss) / tss\n",
    "\n",
    "def PrintEq(beta):\n",
    "    print(f\"y =\", end='')\n",
    "    for i in range(0, len(beta)):\n",
    "        print(f\"{'+' if beta[i] > 0 else '-'} {abs(round(beta[i], 1))}*x{i} \", end='')\n",
    "    print('+ e')"
   ]
  },
  {
   "cell_type": "code",
   "execution_count": 15,
   "id": "7544e4cf",
   "metadata": {},
   "outputs": [],
   "source": [
    "Y = [83, 85, 84, 85, 85, 86, 86, 87, 86, 87, 87, 87, 88, 88, 88, 88, 88, 89, 90, 89, 90, 90, 91, 90, 92]\n",
    "Y = np.array(Y)"
   ]
  },
  {
   "cell_type": "code",
   "execution_count": 16,
   "id": "b675c489",
   "metadata": {},
   "outputs": [],
   "source": [
    "counts = np.array([2, 6, 11, 4, 2])\n",
    "count = np.sum(counts)\n",
    "sample = np.array([[0] * (len(counts) + 1) ] * count)\n",
    "line = 0\n",
    "for i in range(len(counts)):\n",
    "    for j in range(counts[i]):\n",
    "        sample[line][i] = 1\n",
    "        sample[line][-1] = Y[line]\n",
    "        line += 1"
   ]
  },
  {
   "cell_type": "code",
   "execution_count": 17,
   "id": "ebb2b1cb",
   "metadata": {},
   "outputs": [
    {
     "name": "stdout",
     "output_type": "stream",
     "text": [
      "y =+ 84.0*x0 + 85.5*x1 + 87.8*x2 + 90.0*x3 + 91.0*x4 + e\n"
     ]
    }
   ],
   "source": [
    "beta = BetaFunc(sample)\n",
    "PrintEq(beta)"
   ]
  },
  {
   "cell_type": "code",
   "execution_count": 7,
   "id": "3b9dc301",
   "metadata": {},
   "outputs": [
    {
     "data": {
      "text/plain": [
       "array([[1, 0, 0, 0, 0],\n",
       "       [1, 0, 0, 0, 0],\n",
       "       [0, 1, 0, 0, 0],\n",
       "       [0, 1, 0, 0, 0],\n",
       "       [0, 1, 0, 0, 0],\n",
       "       [0, 1, 0, 0, 0],\n",
       "       [0, 1, 0, 0, 0],\n",
       "       [0, 1, 0, 0, 0],\n",
       "       [0, 0, 1, 0, 0],\n",
       "       [0, 0, 1, 0, 0],\n",
       "       [0, 0, 1, 0, 0],\n",
       "       [0, 0, 1, 0, 0],\n",
       "       [0, 0, 1, 0, 0],\n",
       "       [0, 0, 1, 0, 0],\n",
       "       [0, 0, 1, 0, 0],\n",
       "       [0, 0, 1, 0, 0],\n",
       "       [0, 0, 1, 0, 0],\n",
       "       [0, 0, 1, 0, 0],\n",
       "       [0, 0, 1, 0, 0],\n",
       "       [0, 0, 0, 1, 0],\n",
       "       [0, 0, 0, 1, 0],\n",
       "       [0, 0, 0, 1, 0],\n",
       "       [0, 0, 0, 1, 0],\n",
       "       [0, 0, 0, 0, 1],\n",
       "       [0, 0, 0, 0, 1]])"
      ]
     },
     "execution_count": 7,
     "metadata": {},
     "output_type": "execute_result"
    }
   ],
   "source": [
    "PSIFunc(sample)"
   ]
  },
  {
   "cell_type": "code",
   "execution_count": 8,
   "id": "4965e47a",
   "metadata": {},
   "outputs": [
    {
     "data": {
      "text/plain": [
       "0.8106060606060607"
      ]
     },
     "execution_count": 8,
     "metadata": {},
     "output_type": "execute_result"
    }
   ],
   "source": [
    "R2Func(sample)"
   ]
  },
  {
   "cell_type": "code",
   "execution_count": 8,
   "id": "18c4fe2a",
   "metadata": {},
   "outputs": [],
   "source": [
    "def R2PVALUE(sample):\n",
    "    r2 = R2Func(sample)\n",
    "    n = len(sample)\n",
    "    p = len(BetaFunc(sample))\n",
    "    delta_tss = r2 / (1 - r2) * (n - p) / (p - 1) \n",
    "    p_value_tss = f.sf(delta_tss, p - 1, n - p)\n",
    "    return p_value_tss"
   ]
  },
  {
   "cell_type": "code",
   "execution_count": 9,
   "id": "0a32ff9e",
   "metadata": {},
   "outputs": [
    {
     "name": "stdout",
     "output_type": "stream",
     "text": [
      "Влияние факторов существенно, p_value = 0.0\n"
     ]
    }
   ],
   "source": [
    "p_value_tss = R2PVALUE(sample)\n",
    "if (p_value_tss <= 0.05):\n",
    "    print('Влияние факторов существенно, p_value =', round(p_value_tss, 5))"
   ]
  },
  {
   "cell_type": "code",
   "execution_count": 9,
   "id": "7dbd3fc7",
   "metadata": {},
   "outputs": [],
   "source": [
    "def delta(sample, i,  j):\n",
    "    beta = BetaFunc(sample)\n",
    "    d = beta[i] - beta[j]\n",
    "    rss = RSSFunc(sample)\n",
    "    F_inv = np.linalg.inv(FFunc(sample))\n",
    "    n = len(sample)\n",
    "    p = len(beta)\n",
    "    return d / np.sqrt(rss * (F_inv[i][i] + F_inv[j][j])) * np.sqrt(n - p)\n",
    "\n",
    "def F(sample):\n",
    "    beta = BetaFunc(sample)\n",
    "    f_obrat = np.linalg.inv(FFunc(sample))\n",
    "    p_vals = []\n",
    "    n = len(sample)\n",
    "    p = len(beta)\n",
    "    for i in range(len(beta)):\n",
    "        p_vals.append([])\n",
    "        for j in range(i + 1, len(beta)):\n",
    "            p_value = 2 * t.sf(abs(delta(sample, i, j)), n - p)\n",
    "            p_vals[i].append(p_value)\n",
    "    p_vals.pop(-1)\n",
    "    return p_vals"
   ]
  },
  {
   "cell_type": "code",
   "execution_count": 10,
   "id": "99337a1a",
   "metadata": {},
   "outputs": [],
   "source": [
    "p_vals = F(sample)"
   ]
  },
  {
   "cell_type": "code",
   "execution_count": 17,
   "id": "9528c094",
   "metadata": {},
   "outputs": [
    {
     "name": "stdout",
     "output_type": "stream",
     "text": [
      "x0 and x1 p-val = 0.1031  alpha = 0.005 РАВНЫ\n",
      "\n",
      "x0 and x2 p-val = 0.0002  alpha = 0.006 НЕРАВНЫЕ\n",
      "\n",
      "x0 and x3 p-val = 0.0  alpha = 0.006 НЕРАВНЫЕ\n",
      "\n",
      "x0 and x4 p-val = 0.0  alpha = 0.007 НЕРАВНЫЕ\n",
      "\n",
      "x1 and x2 p-val = 0.0004  alpha = 0.008 НЕРАВНЫЕ\n",
      "\n",
      "x1 and x3 p-val = 0.0  alpha = 0.01 НЕРАВНЫЕ\n",
      "\n",
      "x1 and x4 p-val = 0.0  alpha = 0.013 НЕРАВНЫЕ\n",
      "\n",
      "x2 and x3 p-val = 0.0024  alpha = 0.017 НЕРАВНЫЕ\n",
      "\n",
      "x2 and x4 p-val = 0.001  alpha = 0.025 НЕРАВНЫЕ\n",
      "\n",
      "x3 and x4 p-val = 0.2958  alpha = 0.05 РАВНЫ\n",
      "\n"
     ]
    }
   ],
   "source": [
    "c = 10\n",
    "for i in range(len(p_vals)):\n",
    "    for j in range(len(p_vals[i])):\n",
    "        print(f'x{i} and x{j + i + 1}', end=' ')\n",
    "        alp = 0.05 / c\n",
    "        print(f'p-val = {round(p_vals[i][j], 4)}  alpha = {round(alp,3)}', end=' ')\n",
    "        if (p_vals[i][j] > alp):\n",
    "            print('РАВНЫ')\n",
    "        else:\n",
    "            print('НЕРАВНЫЕ')\n",
    "        c -= 1\n",
    "        print()"
   ]
  },
  {
   "cell_type": "code",
   "execution_count": null,
   "id": "b3abbce0",
   "metadata": {},
   "outputs": [],
   "source": []
  },
  {
   "cell_type": "code",
   "execution_count": null,
   "id": "24917dbf",
   "metadata": {},
   "outputs": [],
   "source": []
  }
 ],
 "metadata": {
  "kernelspec": {
   "display_name": "Python 3 (ipykernel)",
   "language": "python",
   "name": "python3"
  },
  "language_info": {
   "codemirror_mode": {
    "name": "ipython",
    "version": 3
   },
   "file_extension": ".py",
   "mimetype": "text/x-python",
   "name": "python",
   "nbconvert_exporter": "python",
   "pygments_lexer": "ipython3",
   "version": "3.11.5"
  }
 },
 "nbformat": 4,
 "nbformat_minor": 5
}
