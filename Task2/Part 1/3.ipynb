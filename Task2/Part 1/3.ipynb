{
 "cells": [
  {
   "cell_type": "code",
   "execution_count": 59,
   "id": "eff52bd9",
   "metadata": {},
   "outputs": [],
   "source": [
    "import numpy as np\n",
    "import matplotlib.pyplot as plt\n",
    "from scipy.optimize import minimize"
   ]
  },
  {
   "cell_type": "code",
   "execution_count": 60,
   "id": "a3d30f2e",
   "metadata": {},
   "outputs": [],
   "source": [
    "sample = np.array([[1, 0, 1], [0, 1, 5], [1, 1, 2]])"
   ]
  },
  {
   "cell_type": "code",
   "execution_count": 61,
   "id": "82130491",
   "metadata": {},
   "outputs": [],
   "source": [
    "def PSIFunc(sample):\n",
    "    n = len(sample)\n",
    "    return sample[:, :-1]\n",
    "\n",
    "def FFunc(sample):\n",
    "    PSI = PSIFunc(sample)\n",
    "    return PSI.T @ PSI\n",
    "\n",
    "def BetaFunc(sample):\n",
    "    Y = sample[:, -1]\n",
    "    PSI = PSIFunc(sample)\n",
    "    F = FFunc(sample)\n",
    "    return np.array(np.linalg.inv(F) @ PSI.T @ Y)\n",
    "\n",
    "def EFunc(sample):\n",
    "    Y = sample[:, -1]\n",
    "    PSI = PSIFunc(sample)\n",
    "    return np.array(Y - PSI @ BetaFunc(sample))\n",
    "\n",
    "def RSSFunc(sample):\n",
    "    e = EFunc(sample)\n",
    "    return e @ e.T\n",
    "\n",
    "def TSSFunc(sample):\n",
    "    Y = sample[:, -1]\n",
    "    mean = np.mean(Y)\n",
    "    return np.sum((Y - mean) ** 2)\n",
    "\n",
    "def R2Func(sample):\n",
    "    tss = TSSFunc(sample)\n",
    "    rss = RSSFunc(sample)\n",
    "    return (tss - rss) / tss\n",
    "\n",
    "def PrintEq(beta):\n",
    "    for i in range(len(beta)):\n",
    "        print(f\"{abs(round(beta[i], 1))}*x{i} \", end='')\n",
    "    print('+ e')\n",
    "    \n",
    "def YFunc(sample):\n",
    "    return sample[:, -1]"
   ]
  },
  {
   "cell_type": "code",
   "execution_count": 62,
   "id": "272085bb",
   "metadata": {},
   "outputs": [
    {
     "data": {
      "text/plain": [
       "array([-0.33333333,  3.66666667])"
      ]
     },
     "execution_count": 62,
     "metadata": {},
     "output_type": "execute_result"
    }
   ],
   "source": [
    "BetaFunc(sample)"
   ]
  },
  {
   "cell_type": "code",
   "execution_count": 63,
   "id": "8868accb",
   "metadata": {},
   "outputs": [],
   "source": [
    "def eTe(beta, sample):\n",
    "    y = YFunc(sample)\n",
    "    psi = PSIFunc(sample)\n",
    "    e = y - psi @ beta\n",
    "    return e.T @ e\n",
    "\n",
    "def LRIDGE(beta, lambd, sample):\n",
    "    return eTe(beta, sample) + lambd * np.sum(beta ** 2)"
   ]
  },
  {
   "cell_type": "code",
   "execution_count": null,
   "id": "b00f5bce",
   "metadata": {},
   "outputs": [],
   "source": []
  },
  {
   "cell_type": "code",
   "execution_count": 64,
   "id": "f369519e",
   "metadata": {},
   "outputs": [],
   "source": [
    "def CVSSFunc(sample, func):\n",
    "    s = 0\n",
    "    N = 100\n",
    "    d_max1 = 1000000000\n",
    "    d_max2 = 1000000000\n",
    "    cvss = np.array([0.] * N)\n",
    "    lambds = np.linspace(0, 10, N)\n",
    "    for i in range(len(sample)):\n",
    "        cur_sample = np.delete(sample, i, 0)\n",
    "        psi = PSIFunc(cur_sample)\n",
    "        psi0 = PSIFunc(sample)[i]\n",
    "        Y = YFunc(sample)\n",
    "        cvss_i = []\n",
    "        for l in lambds:\n",
    "            beta = minimize(func, (5, 5), args=(l, cur_sample)).x\n",
    "            d = (Y[i] - psi0 @ beta) ** 2\n",
    "            cvss_i.append(d)\n",
    "            if (l == lambds[57] and d < d_max1): #57 индекс минимума для лассо\n",
    "                d_max1 = d\n",
    "                beta_saved1 = beta\n",
    "            if (l == lambds[15] and d < d_max2):#ридге индекс минимума для лассо\n",
    "                d_max2 = d\n",
    "                beta_saved2 = beta\n",
    "            \n",
    "        cvss += np.array(cvss_i)\n",
    "    print(beta_saved1)\n",
    "    print(beta_saved2)\n",
    "    return cvss"
   ]
  },
  {
   "cell_type": "code",
   "execution_count": 65,
   "id": "ed46bfab",
   "metadata": {},
   "outputs": [
    {
     "data": {
      "text/plain": [
       "15"
      ]
     },
     "execution_count": 65,
     "metadata": {},
     "output_type": "execute_result"
    }
   ],
   "source": [
    "MinIndex(s)"
   ]
  },
  {
   "cell_type": "code",
   "execution_count": 66,
   "id": "b855611e",
   "metadata": {},
   "outputs": [
    {
     "name": "stdout",
     "output_type": "stream",
     "text": [
      "[0.16559223 0.8809978 ]\n",
      "[0.39759036 1.9879518 ]\n",
      "1.5151515151515151\n"
     ]
    },
    {
     "data": {
      "image/png": "[encoded data removed]",
      "text/plain": [
       "<Figure size 640x480 with 1 Axes>"
      ]
     },
     "metadata": {},
     "output_type": "display_data"
    }
   ],
   "source": [
    "N = 100\n",
    "lambds = np.linspace(0, 10, N)\n",
    "s = CVSSFunc(sample, LRIDGE)\n",
    "plt.plot(lambds, s)\n",
    "print(lambds[MinIndex(s)])"
   ]
  },
  {
   "cell_type": "code",
   "execution_count": 67,
   "id": "52d5ed8c",
   "metadata": {},
   "outputs": [],
   "source": [
    "def LLASSO(beta, lambd, sample):\n",
    "    return eTe(beta, sample) + lambd * np.sum(np.abs(beta))"
   ]
  },
  {
   "cell_type": "code",
   "execution_count": 68,
   "id": "5877a529",
   "metadata": {},
   "outputs": [
    {
     "name": "stdout",
     "output_type": "stream",
     "text": [
      "[-1.29935715e-09  2.10225220e+00]\n",
      "[-0.72727266  3.48484845]\n"
     ]
    }
   ],
   "source": [
    "s2 = CVSSFunc(sample, LLASSO)"
   ]
  },
  {
   "cell_type": "code",
   "execution_count": 69,
   "id": "1214b18e",
   "metadata": {},
   "outputs": [
    {
     "name": "stdout",
     "output_type": "stream",
     "text": [
      "5.757575757575758\n"
     ]
    },
    {
     "data": {
      "image/png": "[encoded data removed]",
      "text/plain": [
       "<Figure size 640x480 with 1 Axes>"
      ]
     },
     "metadata": {},
     "output_type": "display_data"
    }
   ],
   "source": [
    "plt.plot(lambds, s2)\n",
    "print(lambds[MinIndex(s2)])"
   ]
  },
  {
   "cell_type": "code",
   "execution_count": 70,
   "id": "f4f0cda4",
   "metadata": {},
   "outputs": [],
   "source": [
    "def MinIndex(arr):\n",
    "    return np.where(arr == np.min(arr))[0][0]\n",
    "\n",
    "def MaxIndex(arr):\n",
    "    return np.where(arr == np.max(arr))[0][0]"
   ]
  },
  {
   "cell_type": "code",
   "execution_count": null,
   "id": "dada05ce",
   "metadata": {},
   "outputs": [],
   "source": []
  }
 ],
 "metadata": {
  "kernelspec": {
   "display_name": "Python 3 (ipykernel)",
   "language": "python",
   "name": "python3"
  },
  "language_info": {
   "codemirror_mode": {
    "name": "ipython",
    "version": 3
   },
   "file_extension": ".py",
   "mimetype": "text/x-python",
   "name": "python",
   "nbconvert_exporter": "python",
   "pygments_lexer": "ipython3",
   "version": "3.11.5"
  }
 },
 "nbformat": 4,
 "nbformat_minor": 5
}
