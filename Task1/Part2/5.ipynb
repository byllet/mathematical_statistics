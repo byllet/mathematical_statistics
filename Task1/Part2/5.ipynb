{
 "cells": [
  {
   "cell_type": "code",
   "execution_count": 171,
   "id": "0fe60114",
   "metadata": {},
   "outputs": [],
   "source": [
    "import numpy as np\n",
    "import matplotlib.pyplot as plt"
   ]
  },
  {
   "cell_type": "code",
   "execution_count": 46,
   "id": "964912b2",
   "metadata": {},
   "outputs": [],
   "source": [
    "def GenerateRandomUniform(N: int):\n",
    "    array = np.random.uniform(0, 1, N)\n",
    "    array.sort()\n",
    "    return array\n",
    "\n",
    "def ModulateKsi(N: int, theta: float):\n",
    "    eta = GenerateRandomUniform(N)\n",
    "    return (1 - eta) ** (1 / (1 - theta))"
   ]
  },
  {
   "cell_type": "code",
   "execution_count": 137,
   "id": "ab093d24",
   "metadata": {},
   "outputs": [
    {
     "name": "stdout",
     "output_type": "stream",
     "text": [
      "Сгенерированная выборка =  [1.00162815 1.00439046 1.00486633 1.00759367 1.01417426 1.0176472\n",
      " 1.02144921 1.02162952 1.02221467 1.02542734 1.0256334  1.03010196\n",
      " 1.04251146 1.04342468 1.04937919 1.05087438 1.05860595 1.0586852\n",
      " 1.05958342 1.06353174 1.06618924 1.07249034 1.07833625 1.08222033\n",
      " 1.08614587 1.0861611  1.09096549 1.09582713 1.09741201 1.0990748\n",
      " 1.09917187 1.10323643 1.10462443 1.10590666 1.1066166  1.12876273\n",
      " 1.1310399  1.13893257 1.13979728 1.14572992 1.14589866 1.15402701\n",
      " 1.16819982 1.17029212 1.17106484 1.1766026  1.17847779 1.17991612\n",
      " 1.18159221 1.18206274 1.1842575  1.19129338 1.1918878  1.19238094\n",
      " 1.19859467 1.2003451  1.21350414 1.22512394 1.23585275 1.23609149\n",
      " 1.24880118 1.26780363 1.27310402 1.27533807 1.29881192 1.30350896\n",
      " 1.30764152 1.33586845 1.35903298 1.37681247 1.37950816 1.38087994\n",
      " 1.39026714 1.41124751 1.44040827 1.48149048 1.48222337 1.4847128\n",
      " 1.51199679 1.5927693  1.61192025 1.61588408 1.63962822 1.66596156\n",
      " 1.72087766 1.77902613 1.82473941 1.84393298 1.94316812 1.94514138\n",
      " 1.94607704 1.95963833 1.98886118 1.99583571 2.09994207 2.10513118\n",
      " 2.25400052 2.30507822 2.74448966 3.6085116 ]\n"
     ]
    }
   ],
   "source": [
    "N = 100\n",
    "theta = 5\n",
    "generated = ModulateKsi(N, teta)\n",
    "print(\"Сгенерированная выборка = \", generated)"
   ]
  },
  {
   "cell_type": "markdown",
   "id": "fecf4fad",
   "metadata": {},
   "source": [
    "# Асимптотические доверительные интервалы. ОМП"
   ]
  },
  {
   "cell_type": "code",
   "execution_count": 138,
   "id": "5f52d4df",
   "metadata": {},
   "outputs": [],
   "source": [
    "def ThetaWave(sample):\n",
    "    return  len(sample) / sum(np.log(sample)) + 1"
   ]
  },
  {
   "cell_type": "code",
   "execution_count": 139,
   "id": "1ec42b0a",
   "metadata": {},
   "outputs": [],
   "source": [
    "def ConfidenceIntervalAsymptoticMedian(sample):\n",
    "    theta_wave = ThetaWave(sample)\n",
    "    power = 1 / (theta_wave - 1)\n",
    "    powered_2 = 2 ** power\n",
    "    n = len(x)\n",
    "    same_part = 1.96 * np.log(2) * powered_2 / np.sqrt(n) / (theta_wave - 1)\n",
    "    n = len(sample)\n",
    "    left = - same_part + powered_2\n",
    "    right = same_part + powered_2\n",
    "    return left, right"
   ]
  },
  {
   "cell_type": "code",
   "execution_count": 155,
   "id": "602eca34",
   "metadata": {},
   "outputs": [
    {
     "name": "stdout",
     "output_type": "stream",
     "text": [
      "1.156386284658665 1.2417091352087142\n",
      "ОМП медиана. Длина = 0.08532285055004918\n"
     ]
    }
   ],
   "source": [
    "a, b = ConfidenceIntervalAsymptoticMedian(generated)\n",
    "print(a, b)\n",
    "print(\"ОМП медиана. Длина =\", b - a)"
   ]
  },
  {
   "cell_type": "code",
   "execution_count": 141,
   "id": "45ee367b",
   "metadata": {},
   "outputs": [],
   "source": [
    "def ConfidenceIntervalAsymptoticTheta(sample):\n",
    "    theta_wave = ThetaWave(sample)\n",
    "    n = len(sample)\n",
    "    left = -1.96 * (theta_wave - 1) / n ** 0.5 + theta_wave\n",
    "    right = 1.96 * (theta_wave - 1) / n ** 0.5 + theta_wave\n",
    "    return left, right"
   ]
  },
  {
   "cell_type": "code",
   "execution_count": 154,
   "id": "f24fc9c5",
   "metadata": {},
   "outputs": [
    {
     "name": "stdout",
     "output_type": "stream",
     "text": [
      "4.070002183842472 5.566819168999497\n",
      "ОМП θ. Длина = 1.4968169851570252\n"
     ]
    }
   ],
   "source": [
    "a, b = ConfidenceIntervalAsymptoticTheta(generated)\n",
    "print(a, b)\n",
    "print(\"ОМП θ. Длина =\", b - a)"
   ]
  },
  {
   "cell_type": "markdown",
   "id": "360d2c4f",
   "metadata": {},
   "source": [
    "# Bootstrap"
   ]
  },
  {
   "cell_type": "code",
   "execution_count": 112,
   "id": "d866e870",
   "metadata": {},
   "outputs": [],
   "source": [
    "def BootstrapGenerate(data, n_bootstrap_samples=1000):\n",
    "    return [np.random.choice(data, size=len(data), replace=True) for _ in range(n_bootstrap_samples)]"
   ]
  },
  {
   "cell_type": "code",
   "execution_count": 117,
   "id": "30380416",
   "metadata": {},
   "outputs": [],
   "source": [
    "def ParetoGenerate(sample, N):\n",
    "    theta_wave = ThetaWave(sample)\n",
    "    n = len(sample)\n",
    "    return [ModulateKsi(n, theta_wave) for _ in range(N)]"
   ]
  },
  {
   "cell_type": "markdown",
   "id": "c04c1921",
   "metadata": {},
   "source": [
    "### θ bootstrap"
   ]
  },
  {
   "cell_type": "code",
   "execution_count": 129,
   "id": "1118d2d5",
   "metadata": {},
   "outputs": [],
   "source": [
    "def BootstrapParametricTheta(sample):\n",
    "    N = 50000\n",
    "    generated_with_model = ParetoGenerate(sample, N)\n",
    "    param = []\n",
    "    \n",
    "    for current_sample in generated_with_model:\n",
    "        param.append(ThetaWave(current_sample))\n",
    "    param = np.sort(param)\n",
    "    k1 = int((1 - 0.95) * N / 2) - 1\n",
    "    k2 = int((1 + 0.95) * N / 2) - 1\n",
    "    return param[k1], param[k2]"
   ]
  },
  {
   "cell_type": "code",
   "execution_count": 156,
   "id": "40567e9a",
   "metadata": {},
   "outputs": [
    {
     "name": "stdout",
     "output_type": "stream",
     "text": [
      "4.171394084338648 5.696811582741206\n",
      "Параметрический bootstrap θ. Длина = 1.5254174984025575\n"
     ]
    }
   ],
   "source": [
    "a, b = BootstrapParametricTheta(generated)\n",
    "print(a, b)\n",
    "print(\"Параметрический bootstrap θ. Длина =\", b - a)"
   ]
  },
  {
   "cell_type": "code",
   "execution_count": 131,
   "id": "47ffb8c0",
   "metadata": {},
   "outputs": [],
   "source": [
    "def BootstrapNotParametricTheta(sample):\n",
    "    bootstrap_generated = BootstrapGenerate(sample)\n",
    "    theta_wave = ThetaWave(sample)\n",
    "    delts = []\n",
    "    for current_sample in bootstrap_generated:\n",
    "        theta_star = ThetaWave(current_sample)\n",
    "        delts.append(theta_star - theta_wave)\n",
    "    delts = np.sort(delts)\n",
    "    return (-delts[974] + theta_wave , -delts[24] + theta_wave)"
   ]
  },
  {
   "cell_type": "code",
   "execution_count": 170,
   "id": "55f6e037",
   "metadata": {},
   "outputs": [
    {
     "name": "stdout",
     "output_type": "stream",
     "text": [
      "4.0273441116839805 5.445853332984656\n",
      "Непараметрический bootstrap θ. Длина = 1.4185092213006758\n"
     ]
    }
   ],
   "source": [
    "a, b = BootstrapNotParametricTheta(generated)\n",
    "print(a, b)\n",
    "print(\"Непараметрический bootstrap θ. Длина =\", b - a)"
   ]
  },
  {
   "cell_type": "markdown",
   "id": "2174506f",
   "metadata": {},
   "source": [
    "### Медиана bootstrap"
   ]
  },
  {
   "cell_type": "code",
   "execution_count": 163,
   "id": "ae397d53",
   "metadata": {},
   "outputs": [],
   "source": [
    "def EstimationMedian(x):\n",
    "    return np.power(2, 1 / (ThetaWave(x) - 1))\n",
    "\n",
    "def BootstrapParametricMedian(x):\n",
    "    N = 50000\n",
    "    generated_with_model = ParetoGenerate(x, N)\n",
    "    medians = []\n",
    "    for current_sample in generated_with_model:\n",
    "        medians.append(EstimationMedian(current_sample))\n",
    "    medians = np.sort(medians)\n",
    "    k1 = int((1 - 0.95) * N / 2) - 1\n",
    "    k2 = int((1 + 0.95) * N / 2) - 1\n",
    "    return medians[k1], medians[k2]"
   ]
  },
  {
   "cell_type": "code",
   "execution_count": 164,
   "id": "0d90f1e4",
   "metadata": {},
   "outputs": [
    {
     "name": "stdout",
     "output_type": "stream",
     "text": [
      "1.1590463736208636 1.2449172110287317\n",
      "Параметрический bootstrap медиана. Длина = 0.08587083740786805\n"
     ]
    }
   ],
   "source": [
    "a, b = BootstrapParametricMedian(generated)\n",
    "print(a, b)\n",
    "print(\"Параметрический bootstrap медиана. Длина =\", b - a)"
   ]
  },
  {
   "cell_type": "code",
   "execution_count": 165,
   "id": "f343796d",
   "metadata": {},
   "outputs": [],
   "source": [
    "def BootstrapNonParametricMedian(sample):\n",
    "    botstrap_generated = BootstrapGenerate(sample)\n",
    "    theta_ = ThetaWave(sample)\n",
    "    median_star = 2 ** (1 / (theta_ -1 ))\n",
    "    delts = []\n",
    "    for current_sample in botstrap_generated:\n",
    "        delts.append(np.median(current_sample) - median_star)\n",
    "    delts = np.sort(delts)\n",
    "    return (max(-delts[974] + median_star, 0) , -delts[24] + median_star)"
   ]
  },
  {
   "cell_type": "code",
   "execution_count": 166,
   "id": "03c756f7",
   "metadata": {},
   "outputs": [
    {
     "name": "stdout",
     "output_type": "stream",
     "text": [
      "1.1590463736208636 1.2449172110287317\n",
      "Неаараметрический bootstrap медиана. Длина = 0.08587083740786805\n"
     ]
    }
   ],
   "source": [
    "BootstrapNonParametricMedian(generated)\n",
    "print(a, b)\n",
    "print(\"Неаараметрический bootstrap медиана. Длина =\", b - a)"
   ]
  },
  {
   "cell_type": "markdown",
   "id": "1218fb98",
   "metadata": {},
   "source": [
    "# Сравнение "
   ]
  },
  {
   "cell_type": "code",
   "execution_count": 167,
   "id": "994ce933",
   "metadata": {},
   "outputs": [],
   "source": [
    "def Compare(sample, func_list, names_list):\n",
    "    h = 0\n",
    "    for f in func_list:\n",
    "        left, right = f(sample)\n",
    "        x = np.linspace(left, right, len(sample))\n",
    "        y = [h] * len(x)\n",
    "        plt.plot(x, y)\n",
    "        h -= 0.1 \n",
    "    plt.legend(names_list, loc='upper right', framealpha=0.1, fontsize='x-small')\n",
    "    ax = plt.gca()\n",
    "    ax.get_yaxis().set_visible(False)"
   ]
  },
  {
   "cell_type": "markdown",
   "id": "6c9fb1f2",
   "metadata": {},
   "source": [
    "### Сравнение доверительных интервалов θ"
   ]
  },
  {
   "cell_type": "code",
   "execution_count": 168,
   "id": "fc2ee93a",
   "metadata": {},
   "outputs": [
    {
     "data": {
      "image/png": "[encoded data removed]",
      "text/plain": [
       "<Figure size 640x480 with 1 Axes>"
      ]
     },
     "metadata": {},
     "output_type": "display_data"
    }
   ],
   "source": [
    "func_list_theta = [ConfidenceIntervalAsymptoticTheta, BootstrapNotParametricTheta,  BootstrapParametricTheta ]\n",
    "names_list_theta = ['ОМП', 'Непарам b', 'Парам b']\n",
    "Compare(generated, func_list_theta, names_list_theta)"
   ]
  },
  {
   "cell_type": "markdown",
   "id": "dc0516d0",
   "metadata": {},
   "source": [
    "### Сравнение доверительных интервалов для медианы "
   ]
  },
  {
   "cell_type": "code",
   "execution_count": 169,
   "id": "78ad8a26",
   "metadata": {},
   "outputs": [
    {
     "data": {
      "image/png": "[encoded data removed]",
      "text/plain": [
       "<Figure size 640x480 with 1 Axes>"
      ]
     },
     "metadata": {},
     "output_type": "display_data"
    }
   ],
   "source": [
    "func_list_median = [ BootstrapParametricMedian, ConfidenceIntervalAsymptoticMedian, BootstrapNonParametricMedian]\n",
    "names_list_median = ['Парам b', 'ОМП', 'Непарам b']\n",
    "Compare(generated, func_list_median, names_list_median)"
   ]
  }
 ],
 "metadata": {
  "kernelspec": {
   "display_name": "Python 3 (ipykernel)",
   "language": "python",
   "name": "python3"
  },
  "language_info": {
   "codemirror_mode": {
    "name": "ipython",
    "version": 3
   },
   "file_extension": ".py",
   "mimetype": "text/x-python",
   "name": "python",
   "nbconvert_exporter": "python",
   "pygments_lexer": "ipython3",
   "version": "3.11.5"
  }
 },
 "nbformat": 4,
 "nbformat_minor": 5
}
