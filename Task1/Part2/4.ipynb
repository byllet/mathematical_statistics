{
 "cells": [
  {
   "cell_type": "code",
   "execution_count": 48,
   "id": "f7db2a8e",
   "metadata": {},
   "outputs": [],
   "source": [
    "import numpy as np\n",
    "import matplotlib.pyplot as plt"
   ]
  },
  {
   "cell_type": "code",
   "execution_count": 49,
   "id": "8f6a55bc",
   "metadata": {},
   "outputs": [],
   "source": [
    "def GenerateRandomUniform(N: int, theta: float):\n",
    "    array = np.random.uniform(theta, 2 * theta, N)\n",
    "    array.sort()\n",
    "    return array"
   ]
  },
  {
   "cell_type": "code",
   "execution_count": 76,
   "id": "099b97dc",
   "metadata": {},
   "outputs": [
    {
     "name": "stdout",
     "output_type": "stream",
     "text": [
      "θ = 9.9 \n",
      "Сгенерированная выборка =  [ 9.97036633 10.03177219 10.04697015 10.1734277  10.27814082 10.48515874\n",
      " 10.53989206 10.65222728 10.65496052 10.78075326 10.87610792 10.88116102\n",
      " 10.89311581 11.04760066 11.07045132 11.16221362 11.23057201 11.23084532\n",
      " 11.27375862 11.33001517 11.36874262 11.39776783 11.47932575 11.49146286\n",
      " 11.64684265 11.65743586 11.75603907 12.03262242 12.14763596 12.20014028\n",
      " 12.27258668 12.64435407 12.65902138 13.09933923 13.22838511 13.29026064\n",
      " 13.57956466 13.64841622 13.70075932 13.84667887 13.89741007 13.9087664\n",
      " 13.91180697 13.95495682 14.40241659 14.43484411 14.44321496 14.4848611\n",
      " 14.49946735 14.81219912 14.81994497 15.015027   15.02839825 15.1229923\n",
      " 15.28795383 15.31529333 15.35679807 15.39837866 15.40932611 15.54498028\n",
      " 15.79550156 15.8297191  15.90471906 15.92567283 16.23807566 16.25430257\n",
      " 16.33411792 16.36068022 16.53109853 16.54205436 17.01343844 17.03277036\n",
      " 17.37765654 17.43480708 17.58836012 17.60094108 17.68554885 17.70821397\n",
      " 17.79336127 17.93323452 18.02779112 18.10598269 18.22718549 18.37170657\n",
      " 18.38799616 18.56884872 18.63050122 18.65354335 18.71388171 18.74131349\n",
      " 18.76437354 18.79854414 18.97028356 19.41196362 19.49724194 19.53838614\n",
      " 19.55480192 19.63085266 19.78125215 19.78279707]\n"
     ]
    }
   ],
   "source": [
    "N = 100\n",
    "theta = 9.9\n",
    "generated = GenerateRandomUniform(N, theta)\n",
    "print(f\"θ = {theta} \\nСгенерированная выборка = \", generated)"
   ]
  },
  {
   "cell_type": "markdown",
   "id": "0ca75acd",
   "metadata": {},
   "source": [
    "## Точный доверительный интервал "
   ]
  },
  {
   "cell_type": "code",
   "execution_count": 77,
   "id": "7f458bba",
   "metadata": {},
   "outputs": [],
   "source": [
    "def ConfidenceIntervalАccurateTheta(x):\n",
    "    x_avg = np.mean(x)\n",
    "    n = len(x)\n",
    "    sqrt_n = n ** 0.5\n",
    "    left = x_avg * np.sqrt(12) / (np.sqrt(27) + 1.96 / sqrt_n)\n",
    "    right = x_avg * np.sqrt(12) / (np.sqrt(27) - 1.96 / sqrt_n)\n",
    "    return (left, right)"
   ]
  },
  {
   "cell_type": "code",
   "execution_count": 78,
   "id": "d9aa2349",
   "metadata": {
    "scrolled": true
   },
   "outputs": [
    {
     "name": "stdout",
     "output_type": "stream",
     "text": [
      "9.468508785798836 10.210817245672542\n",
      "Точный доверительный интервал. Длина = 0.7423084598737066\n"
     ]
    }
   ],
   "source": [
    "a, b = ConfidenceIntervalАccurateTheta(generated)\n",
    "print(a, b)\n",
    "print(\"Точный доверительный интервал. Длина =\", b - a)"
   ]
  },
  {
   "cell_type": "markdown",
   "id": "f8bdc45e",
   "metadata": {},
   "source": [
    "## Асимптотический доверительный интервал. ОММ"
   ]
  },
  {
   "cell_type": "code",
   "execution_count": 79,
   "id": "d183ff83",
   "metadata": {},
   "outputs": [],
   "source": [
    "def ConfidenceIntervalAsymptoticThetaOMM(x):\n",
    "    x_avg = np.mean(x)\n",
    "    g_alpha = 2 / 3 * x_avg  \n",
    "    n = len(x)\n",
    "    alpha_1 = x_avg\n",
    "    alpha_2 = np.mean(x * x)\n",
    "    same_part =  1.96 * 2 * np.sqrt(alpha_2 - alpha_1 ** 2) / n ** 0.5 / 3\n",
    "    left = - same_part + g_alpha\n",
    "    right = same_part + g_alpha\n",
    "    return (left, right)"
   ]
  },
  {
   "cell_type": "code",
   "execution_count": 80,
   "id": "66e0bee5",
   "metadata": {},
   "outputs": [
    {
     "name": "stdout",
     "output_type": "stream",
     "text": [
      "9.433081962732857 10.218244032115372\n",
      "Асимптотический ОММ. Длина = 0.7851620693825154\n"
     ]
    }
   ],
   "source": [
    "a, b = ConfidenceIntervalAsymptoticThetaOMM(generated)\n",
    "print(a, b)\n",
    "print(\"Асимптотический ОММ. Длина =\", b - a)"
   ]
  },
  {
   "cell_type": "markdown",
   "id": "ebb33e74",
   "metadata": {},
   "source": [
    "## Bootstrap"
   ]
  },
  {
   "cell_type": "code",
   "execution_count": 81,
   "id": "f427856b",
   "metadata": {},
   "outputs": [],
   "source": [
    "def BootstrapGenerate(data, n_bootstrap_samples=1000):\n",
    "    return [np.random.choice(data, size=len(data), replace=True) for _ in range(n_bootstrap_samples)]"
   ]
  },
  {
   "cell_type": "code",
   "execution_count": 82,
   "id": "42047799",
   "metadata": {},
   "outputs": [],
   "source": [
    "def UniformGenerate(x, N):\n",
    "    theta = max(x) / 2\n",
    "    return [GenerateRandomUniform(len(x), theta) for _ in range(N)]\n",
    "\n",
    "def BootstrapParametricTheta(x):\n",
    "    N = 50000\n",
    "    generated_with_model = UniformGenerate(x, N)\n",
    "    theta_stars = []\n",
    "    for current_sample in generated_with_model:\n",
    "        theta_stars.append(np.mean(current_sample) * 2 / 3)\n",
    "    theta_stars = np.sort(theta_stars)\n",
    "    k1 = int((1 - 0.95) * N / 2) - 1\n",
    "    k2 = int((1 + 0.95) * N / 2) - 1 \n",
    "    return theta_stars[k1], theta_stars[k2]"
   ]
  },
  {
   "cell_type": "code",
   "execution_count": 83,
   "id": "0d2bd3e1",
   "metadata": {},
   "outputs": [
    {
     "name": "stdout",
     "output_type": "stream",
     "text": [
      "9.514507539278986 10.265917373791906\n",
      "Параметрический bootstrap. Оценка - ОММ. Длина = 0.7514098345129199\n"
     ]
    }
   ],
   "source": [
    "a, b = BootstrapParametricTheta(generated)\n",
    "print(a, b)\n",
    "print(\"Параметрический bootstrap. Оценка - ОММ. Длина =\", b - a)"
   ]
  },
  {
   "cell_type": "code",
   "execution_count": 84,
   "id": "1885b573",
   "metadata": {},
   "outputs": [],
   "source": [
    "def BootstrapNonParametricTheta(sample):\n",
    "    bootstrap_generated = BootstrapGenerate(sample, 1000)\n",
    "    theta_star = 2 / 3  * np.mean(sample)\n",
    "    delts = []\n",
    "    for current_sample in bootstrap_generated:\n",
    "        delts.append(2 / 3 * np.mean(current_sample) - theta_star)\n",
    "    delts.sort()\n",
    "    return (-delts[974] + theta_star , -delts[24] + theta_star)"
   ]
  },
  {
   "cell_type": "code",
   "execution_count": 85,
   "id": "6e9df6c8",
   "metadata": {},
   "outputs": [
    {
     "name": "stdout",
     "output_type": "stream",
     "text": [
      "9.413917192345764 10.209455879404144\n",
      "Непараметрический bootstrap. Оценка - ОММ. Длина = 0.7955386870583805\n"
     ]
    }
   ],
   "source": [
    "a, b = BootstrapNonParametricTheta(generated)\n",
    "print(a, b)\n",
    "print(\"Непараметрический bootstrap. Оценка - ОММ. Длина =\", b - a)"
   ]
  },
  {
   "cell_type": "markdown",
   "id": "2370db59",
   "metadata": {},
   "source": [
    "## Сравнение доверительных интервалов"
   ]
  },
  {
   "cell_type": "code",
   "execution_count": 86,
   "id": "97fd4be1",
   "metadata": {},
   "outputs": [],
   "source": [
    "def Compare(sample, func_list, names_list):\n",
    "    h = 0\n",
    "    for f in func_list:\n",
    "        left, right = f(sample)\n",
    "        x = np.linspace(left, right, len(sample))\n",
    "        y = [h] * len(x)\n",
    "        plt.plot(x, y)\n",
    "        h -= 0.1 \n",
    "    plt.legend(names_list)\n",
    "    ax = plt.gca()\n",
    "    ax.get_yaxis().set_visible(False)"
   ]
  },
  {
   "cell_type": "code",
   "execution_count": 87,
   "id": "74b26814",
   "metadata": {},
   "outputs": [
    {
     "data": {
      "image/png": "[encoded data removed]",
      "text/plain": [
       "<Figure size 640x480 with 1 Axes>"
      ]
     },
     "metadata": {},
     "output_type": "display_data"
    }
   ],
   "source": [
    "func_list = [ConfidenceIntervalАccurateTheta, BootstrapParametricTheta, BootstrapNonParametricTheta, ConfidenceIntervalAsymptoticThetaOMM]\n",
    "names_list = ['Точный', 'Парам b', 'Непарам b', 'ОММ']\n",
    "Compare(generated, func_list, names_list)"
   ]
  }
 ],
 "metadata": {
  "kernelspec": {
   "display_name": "Python 3 (ipykernel)",
   "language": "python",
   "name": "python3"
  },
  "language_info": {
   "codemirror_mode": {
    "name": "ipython",
    "version": 3
   },
   "file_extension": ".py",
   "mimetype": "text/x-python",
   "name": "python",
   "nbconvert_exporter": "python",
   "pygments_lexer": "ipython3",
   "version": "3.11.5"
  }
 },
 "nbformat": 4,
 "nbformat_minor": 5
}
