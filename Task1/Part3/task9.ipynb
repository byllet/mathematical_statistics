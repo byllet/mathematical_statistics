{
 "cells": [
  {
   "cell_type": "code",
   "execution_count": 1,
   "id": "0507027f",
   "metadata": {},
   "outputs": [],
   "source": [
    "import numpy as np\n",
    "import matplotlib.pyplot as plt\n",
    "import scipy\n",
    "from scipy import stats\n",
    "from scipy.optimize import minimize\n",
    "from collections import Counter"
   ]
  },
  {
   "cell_type": "code",
   "execution_count": 2,
   "id": "e4d8eff7",
   "metadata": {},
   "outputs": [],
   "source": [
    "def Chi2XtoInf(x, k: int):\n",
    "    return scipy.stats.chi2(k).sf(x)"
   ]
  },
  {
   "cell_type": "code",
   "execution_count": 3,
   "id": "790bf8a7",
   "metadata": {},
   "outputs": [],
   "source": [
    "def Count(sample):\n",
    "    c = Counter(sample)\n",
    "    return c\n",
    "\n",
    "def Heights(counts, n):\n",
    "    cur_h = 0\n",
    "    heights = dict()\n",
    "    for cur_key in counts:\n",
    "        frequence = counts[cur_key] / n\n",
    "        heights[cur_key] = cur_h + frequence\n",
    "        cur_h += frequence\n",
    "        \n",
    "    return heights"
   ]
  },
  {
   "cell_type": "code",
   "execution_count": 4,
   "id": "65af4ffc",
   "metadata": {},
   "outputs": [],
   "source": [
    "def PlotUniform(x: np.array):\n",
    "    y = np.linspace(0, 1, len(x))\n",
    "    plt.plot(x, y)\n",
    "    \n",
    "def EmpericalFunction(sample, x, heights):\n",
    "    n = len(sample)\n",
    "    y = [heights[sample_i] for sample_i in sample]\n",
    "    plt.step(sample, y, where='post')"
   ]
  },
  {
   "cell_type": "code",
   "execution_count": 5,
   "id": "bcb91c06",
   "metadata": {},
   "outputs": [
    {
     "name": "stdout",
     "output_type": "stream",
     "text": [
      "[0, 0, 0, 0, 0, 1, 1, 1, 1, 1, 1, 1, 1, 2, 2, 2, 2, 2, 2, 3, 3, 3, 3, 3, 3, 3, 3, 3, 3, 3, 3, 4, 4, 4, 4, 4, 4, 4, 4, 4, 4, 4, 4, 4, 4, 5, 5, 5, 5, 5, 5, 5, 5, 5, 5, 5, 5, 5, 5, 5, 5, 5, 5, 6, 6, 6, 6, 6, 6, 6, 6, 6, 6, 6, 7, 7, 7, 7, 7, 7, 8, 8, 8, 8, 8, 8, 8, 8, 8, 8, 8, 8, 8, 9, 9, 9, 9, 9, 9, 9]\n"
     ]
    }
   ],
   "source": [
    "def GenerateSampleWithM(nums):\n",
    "    sample = []\n",
    "    for i in range(len(nums)):\n",
    "        tmp = [i] * nums[i]\n",
    "        sample += tmp\n",
    "    return sample\n",
    "\n",
    "nums = [5, 8, 6, 12, 14, 18, 11, 6, 13, 7]\n",
    "sample = GenerateSampleWithM(nums)\n",
    "print(sample)"
   ]
  },
  {
   "cell_type": "markdown",
   "id": "e5e5c20a",
   "metadata": {},
   "source": [
    "## a)"
   ]
  },
  {
   "cell_type": "markdown",
   "id": "e9a25ab7",
   "metadata": {},
   "source": [
    "## Проверка c помощью χ²"
   ]
  },
  {
   "cell_type": "code",
   "execution_count": 6,
   "id": "36787feb",
   "metadata": {},
   "outputs": [],
   "source": [
    "def DeltaChi2(nums, p):\n",
    "    s = 0\n",
    "    for i in range(len(nums)):\n",
    "        s += 0.1 * (nums[i] - 10) ** 2\n",
    "    return s"
   ]
  },
  {
   "cell_type": "markdown",
   "id": "91a65735",
   "metadata": {},
   "source": [
    "### p-value для χ²"
   ]
  },
  {
   "cell_type": "code",
   "execution_count": 7,
   "id": "0f841ac2",
   "metadata": {},
   "outputs": [
    {
     "name": "stdout",
     "output_type": "stream",
     "text": [
      "p-value для χ² =  0.058984030544419454\n"
     ]
    }
   ],
   "source": [
    "p_value1 = Chi2XtoInf(DeltaChi2(nums, 0.1), 9)\n",
    "print(\"p-value для χ² = \", p_value1)"
   ]
  },
  {
   "cell_type": "markdown",
   "id": "4937e654",
   "metadata": {},
   "source": [
    "## Проверка по Колмогорову"
   ]
  },
  {
   "cell_type": "code",
   "execution_count": 129,
   "id": "dec6243a",
   "metadata": {},
   "outputs": [],
   "source": [
    "def KolmogorovDelta(args, sample, n, func):\n",
    "    h_last_iter = 0\n",
    "    max_delta = -1\n",
    "    counts = Count(sample)\n",
    "    heights = Heights(counts, n)\n",
    "    \n",
    "    for x in heights:\n",
    "        f = func(x, args)\n",
    "        max_delta = max(max_delta, max(abs(f - heights[x]), abs(f - h_last_iter)))\n",
    "        h_last_iter = heights[x]\n",
    "        \n",
    "    return max_delta * np.sqrt(n)"
   ]
  },
  {
   "cell_type": "code",
   "execution_count": 130,
   "id": "de55f06c",
   "metadata": {},
   "outputs": [],
   "source": [
    "def Linear(x, args):\n",
    "    a, b = args\n",
    "    return (x - a) / (b - a)\n",
    "\n",
    "def KolmogorovCd(x):\n",
    "    s = 0\n",
    "    N = 100\n",
    "    for i in range(1, N):\n",
    "        s += (-1) ** i * np.exp(-2 * i * i * x * x)\n",
    "    return 1 + 2 * s"
   ]
  },
  {
   "cell_type": "markdown",
   "id": "6a0bd51b",
   "metadata": {},
   "source": [
    "### p-value для Колмогорова"
   ]
  },
  {
   "cell_type": "code",
   "execution_count": 131,
   "id": "f15c759c",
   "metadata": {},
   "outputs": [
    {
     "name": "stdout",
     "output_type": "stream",
     "text": [
      "p-value для критерия Колмогорова =  0.032851885438597406\n"
     ]
    }
   ],
   "source": [
    "n = 100\n",
    "kolmog_delta = KolmogorovDelta((0, 9), sample, n, Linear)\n",
    "p_value2 = 1 - KolmogorovCd(kolmog_delta)\n",
    "print('p-value для критерия Колмогорова = ', p_value2)"
   ]
  },
  {
   "cell_type": "markdown",
   "id": "375a6899",
   "metadata": {},
   "source": [
    "## b)"
   ]
  },
  {
   "cell_type": "markdown",
   "id": "aa7d1abc",
   "metadata": {},
   "source": [
    "## Проверка c помощью χ²"
   ]
  },
  {
   "cell_type": "markdown",
   "id": "00267bda",
   "metadata": {},
   "source": [
    "### Минимизация"
   ]
  },
  {
   "cell_type": "code",
   "execution_count": 11,
   "id": "26dfc16b",
   "metadata": {},
   "outputs": [],
   "source": [
    "intervals = [[-np.inf, 1]]\n",
    "for i in range(8):\n",
    "    intervals.append([i + 1, i + 2])\n",
    "intervals.append([9, np.inf])"
   ]
  },
  {
   "cell_type": "code",
   "execution_count": 12,
   "id": "09ff8674",
   "metadata": {},
   "outputs": [],
   "source": [
    "def ProbabilityDensity(x, t1, t2):\n",
    "    return 1 / np.sqrt(2 * np.pi) / t2 * np.exp(-(x - t1) ** 2 / (t2 * t2) / 2)\n",
    "\n",
    "def ProbabilityFunction(x, t1, t2):\n",
    "    return scipy.integrate.quad(ProbabilityDensity, x[0], x[-1], args=(t1, t2))[0]"
   ]
  },
  {
   "cell_type": "code",
   "execution_count": 13,
   "id": "705d23aa",
   "metadata": {},
   "outputs": [],
   "source": [
    "def LikelihoodFunction(x):\n",
    "    mean = x[0]\n",
    "    sigma = x[1]\n",
    "    pows = [5, 8, 6, 12, 14, 18, 11, 6, 13, 7]\n",
    "    intervals = [[-np.inf, 1]]\n",
    "    for i in range(8):\n",
    "        intervals.append([i + 1, i + 2])\n",
    "    intervals.append([9, np.inf])\n",
    "    res = 1\n",
    "    for i in range(len(intervals)):\n",
    "        res *= ProbabilityFunction(intervals[i], mean, sigma) ** pows[i]\n",
    "    \n",
    "    return -res"
   ]
  },
  {
   "cell_type": "code",
   "execution_count": 14,
   "id": "6bf2aa0c",
   "metadata": {},
   "outputs": [
    {
     "name": "stdout",
     "output_type": "stream",
     "text": [
      "Точки минимума функции правдоподобия\n",
      "Cреднее = 5.289633051826962 sigma = 2.679530687575016\n"
     ]
    }
   ],
   "source": [
    "x0 = [5, 1]\n",
    "result = minimize(LikelihoodFunction, x0, method='Nelder-Mead')\n",
    "min_mean, min_sigma = result.x\n",
    "print('Точки минимума функции правдоподобия')\n",
    "print('Cреднее =', min_mean, 'sigma =', min_sigma)"
   ]
  },
  {
   "cell_type": "code",
   "execution_count": 23,
   "id": "bdbb5f95",
   "metadata": {},
   "outputs": [],
   "source": [
    "def DeltaChiSecond(mean, sigma, sample, intervals):\n",
    "    counts = [Count(sample)[i] for i in Count(sample)]\n",
    "    s = 0\n",
    "    for i in range(len(counts)):\n",
    "        np = n * ProbabilityFunction(intervals[i], mean, sigma)\n",
    "        tmp = (counts[i] - np) ** 2 / np\n",
    "        s += tmp\n",
    "    return s"
   ]
  },
  {
   "cell_type": "markdown",
   "id": "6a569be8",
   "metadata": {},
   "source": [
    "### p-value для χ²"
   ]
  },
  {
   "cell_type": "code",
   "execution_count": 25,
   "id": "31a704c3",
   "metadata": {},
   "outputs": [
    {
     "name": "stdout",
     "output_type": "stream",
     "text": [
      "p-value для χ² =  0.2000369256902222\n"
     ]
    }
   ],
   "source": [
    "delta = DeltaChiSecond(min_mean, min_sigma, sample, intervals)\n",
    "p_value_b_chi = Chi2XtoInf(delta, 7)\n",
    "print('p-value для χ² = ', p_value_b_chi)"
   ]
  },
  {
   "cell_type": "markdown",
   "id": "0233c5d3",
   "metadata": {},
   "source": [
    "## Проверка по Колмогорову"
   ]
  },
  {
   "cell_type": "code",
   "execution_count": 75,
   "id": "bce57328",
   "metadata": {},
   "outputs": [],
   "source": [
    "def ModulateNormal(mean, sigma, n):\n",
    "    s = np.random.normal(mean, sigma, n).astype(int)\n",
    "    s[s > 9] = 9\n",
    "    s[s < 0] = 0\n",
    "    s = np.sort(s)\n",
    "    return s\n",
    "\n",
    "def GaussGenerateSamples(mean, sigma, N = 1000):\n",
    "    return [ModulateNormal(mean, sigma, n) for _ in range(N)]"
   ]
  },
  {
   "cell_type": "code",
   "execution_count": 76,
   "id": "34ce0cb8",
   "metadata": {},
   "outputs": [],
   "source": [
    "def Sigma(sample, n = 100):\n",
    "    return np.sqrt(n / (n - 1) * np.var(sample))"
   ]
  },
  {
   "cell_type": "code",
   "execution_count": 77,
   "id": "aa995b6b",
   "metadata": {},
   "outputs": [],
   "source": [
    "def ProbabilityFunctionWrap(x, args):\n",
    "    mean, sigma = args\n",
    "    args = [-np.inf, x]\n",
    "    return ProbabilityFunction(args, mean, sigma)"
   ]
  },
  {
   "cell_type": "code",
   "execution_count": 101,
   "id": "27ab1b5d",
   "metadata": {},
   "outputs": [],
   "source": [
    "def ParametricBootstrapForKolmogorov(sample):\n",
    "    mean = np.mean(sample)\n",
    "    sigma = Sigma(sample)\n",
    "    N = 1000\n",
    "    generated =  GaussGenerateSamples(mean, sigma, N)\n",
    "    n = len(sample)\n",
    "    \n",
    "    delta_wave = KolmogorovDelta((mean, sigma), sample, n, ProbabilityFunctionWrap)\n",
    "    print('delta_wave = ', delta_wave, mean, sigma)\n",
    "    \n",
    "    delts = np.array([])\n",
    "    for cur_sample in generated:\n",
    "        cur_mean = np.mean(cur_sample)\n",
    "        cur_sigma = Sigma(cur_sample)\n",
    "        d = KolmogorovDelta((cur_mean, cur_sigma), cur_sample, n, ProbabilityFunctionWrap)\n",
    "        delts = np.append(delts, d)\n",
    "\n",
    "    return len(delts[delts > delta_wave]) / N\n",
    "    "
   ]
  },
  {
   "cell_type": "markdown",
   "id": "eebb6e9a",
   "metadata": {},
   "source": [
    "### p-value для Колмогорова"
   ]
  },
  {
   "cell_type": "code",
   "execution_count": 102,
   "id": "5ee797c1",
   "metadata": {},
   "outputs": [
    {
     "name": "stdout",
     "output_type": "stream",
     "text": [
      "delta_wave =  1.0020942299329105 4.77 2.5180359509953494\n",
      "p-value для Колмогорова = 0.853\n"
     ]
    }
   ],
   "source": [
    "p_value = ParametricBootstrapForKolmogorov(sample)\n",
    "print('p-value для Колмогорова =', p_value)"
   ]
  }
 ],
 "metadata": {
  "kernelspec": {
   "display_name": "Python 3 (ipykernel)",
   "language": "python",
   "name": "python3"
  },
  "language_info": {
   "codemirror_mode": {
    "name": "ipython",
    "version": 3
   },
   "file_extension": ".py",
   "mimetype": "text/x-python",
   "name": "python",
   "nbconvert_exporter": "python",
   "pygments_lexer": "ipython3",
   "version": "3.11.5"
  }
 },
 "nbformat": 4,
 "nbformat_minor": 5
}
