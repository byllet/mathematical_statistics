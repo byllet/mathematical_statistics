{
 "cells": [
  {
   "cell_type": "code",
   "execution_count": 2,
   "id": "0507027f",
   "metadata": {},
   "outputs": [],
   "source": [
    "import numpy as np\n",
    "import matplotlib.pyplot as plt\n",
    "import scipy\n",
    "from scipy import stats\n",
    "from scipy.optimize import minimize\n",
    "from collections import Counter"
   ]
  },
  {
   "cell_type": "code",
   "execution_count": 3,
   "id": "e4d8eff7",
   "metadata": {},
   "outputs": [],
   "source": [
    "def Chi2XtoInf(x, k: int):\n",
    "    return scipy.stats.chi2(k).sf(x)"
   ]
  },
  {
   "cell_type": "code",
   "execution_count": 4,
   "id": "790bf8a7",
   "metadata": {},
   "outputs": [],
   "source": [
    "def Count(sample):\n",
    "    c = Counter(sample)\n",
    "    return c\n",
    "\n",
    "def Heights(counts, n):\n",
    "    cur_h = 0\n",
    "    heights = dict()\n",
    "    for cur_key in counts:\n",
    "        frequence = counts[cur_key] / n\n",
    "        heights[cur_key] = cur_h + frequence\n",
    "        cur_h += frequence\n",
    "        \n",
    "    return heights"
   ]
  },
  {
   "cell_type": "code",
   "execution_count": 5,
   "id": "65af4ffc",
   "metadata": {},
   "outputs": [],
   "source": [
    "def PlotUniform(x: np.array):\n",
    "    y = np.linspace(0, 1, len(x))\n",
    "    plt.plot(x, y)\n",
    "    \n",
    "def EmpericalFunction(sample, x, heights):\n",
    "    n = len(sample)\n",
    "    y = [heights[sample_i] for sample_i in sample]\n",
    "    plt.step(sample, y, where='post')"
   ]
  },
  {
   "cell_type": "code",
   "execution_count": 6,
   "id": "bcb91c06",
   "metadata": {},
   "outputs": [
    {
     "name": "stdout",
     "output_type": "stream",
     "text": [
      "[0, 0, 0, 0, 0, 1, 1, 1, 1, 1, 1, 1, 1, 2, 2, 2, 2, 2, 2, 3, 3, 3, 3, 3, 3, 3, 3, 3, 3, 3, 3, 4, 4, 4, 4, 4, 4, 4, 4, 4, 4, 4, 4, 4, 4, 5, 5, 5, 5, 5, 5, 5, 5, 5, 5, 5, 5, 5, 5, 5, 5, 5, 5, 6, 6, 6, 6, 6, 6, 6, 6, 6, 6, 6, 7, 7, 7, 7, 7, 7, 8, 8, 8, 8, 8, 8, 8, 8, 8, 8, 8, 8, 8, 9, 9, 9, 9, 9, 9, 9]\n"
     ]
    }
   ],
   "source": [
    "def GenerateSampleWithM(nums):\n",
    "    sample = []\n",
    "    for i in range(len(nums)):\n",
    "        tmp = [i] * nums[i]\n",
    "        sample += tmp\n",
    "    return sample\n",
    "\n",
    "nums = [5, 8, 6, 12, 14, 18, 11, 6, 13, 7]\n",
    "sample = GenerateSampleWithM(nums)\n",
    "print(sample)"
   ]
  },
  {
   "cell_type": "markdown",
   "id": "e5e5c20a",
   "metadata": {},
   "source": [
    "## a)"
   ]
  },
  {
   "cell_type": "markdown",
   "id": "e9a25ab7",
   "metadata": {},
   "source": [
    "## Проверка по χ²"
   ]
  },
  {
   "cell_type": "code",
   "execution_count": 7,
   "id": "36787feb",
   "metadata": {},
   "outputs": [],
   "source": [
    "def DeltaChi2(nums, p):\n",
    "    s = 0\n",
    "    for i in range(len(nums)):\n",
    "        s += 0.1 * (nums[i] - 10) ** 2\n",
    "    return s"
   ]
  },
  {
   "cell_type": "markdown",
   "id": "91a65735",
   "metadata": {},
   "source": [
    "### p-value для χ²"
   ]
  },
  {
   "cell_type": "code",
   "execution_count": 8,
   "id": "0f841ac2",
   "metadata": {},
   "outputs": [
    {
     "name": "stdout",
     "output_type": "stream",
     "text": [
      "p-value для χ² =  0.058984030544419454\n"
     ]
    }
   ],
   "source": [
    "p_value1 = Chi2XtoInf(DeltaChi2(nums, 0.1), 9)\n",
    "print(\"p-value для χ² = \", p_value1)"
   ]
  },
  {
   "cell_type": "markdown",
   "id": "4937e654",
   "metadata": {},
   "source": [
    "## Проверка по Колмогорову"
   ]
  },
  {
   "cell_type": "code",
   "execution_count": 44,
   "id": "dec6243a",
   "metadata": {},
   "outputs": [],
   "source": [
    "def KolmogorovDelta(args, sample, n, func):\n",
    "    h_last_iter = 0\n",
    "    max_delta = -1\n",
    "    counts = Count(sample)\n",
    "    heights = Heights(counts, n)\n",
    "    \n",
    "    for x in heights:\n",
    "        f = func(x, args)\n",
    "        print(x, f, heights[x])\n",
    "        print(f - heights[x])\n",
    "        print(f - h_last_iter)\n",
    "        max_delta = max(max_delta, max(abs(f - heights[x]), abs(f - h_last_iter)))\n",
    "        h_last_iter = heights[x]\n",
    "        \n",
    "    return max_delta * np.sqrt(n)"
   ]
  },
  {
   "cell_type": "code",
   "execution_count": 45,
   "id": "933dc843",
   "metadata": {},
   "outputs": [
    {
     "name": "stdout",
     "output_type": "stream",
     "text": [
      "0 0.029090374767740727 0.05\n",
      "-0.020909625232259275\n",
      "0.029090374767740727\n",
      "1 0.06717078964413262 0.13\n",
      "-0.06282921035586739\n",
      "0.017170789644132614\n",
      "2 0.13565217948950464 0.19\n",
      "-0.05434782051049536\n",
      "0.0056521794895046384\n",
      "3 0.2410500597208515 0.31\n",
      "-0.0689499402791485\n",
      "0.0510500597208515\n",
      "4 0.3798807917285216 0.45\n",
      "-0.07011920827147838\n",
      "0.06988079172852163\n",
      "5 0.5363891919159295 0.63\n",
      "-0.09361080808407052\n",
      "0.08638919191592948\n",
      "6 0.6873936211910706 0.74\n",
      "-0.05260637880892938\n",
      "0.05739362119107061\n",
      "7 0.8120863729763096 0.8\n",
      "0.012086372976309545\n",
      "0.0720863729763096\n",
      "8 0.9002094229932911 0.93\n",
      "-0.02979057700670895\n",
      "0.10020942299329105\n",
      "9 0.9535097353536752 1.0\n",
      "-0.046490264646324775\n",
      "0.023509735353675176\n",
      "1.0020942299329105\n"
     ]
    }
   ],
   "source": [
    "delta_wave = KolmogorovDelta((np.mean(sample), Sigma(sample)), sample, n, ProbabilityFunctionWrap)\n",
    "print(delta_wave)"
   ]
  },
  {
   "cell_type": "code",
   "execution_count": 10,
   "id": "de55f06c",
   "metadata": {},
   "outputs": [],
   "source": [
    "def Linear(x, args):\n",
    "    a, b = args\n",
    "    return (x - a) / (b - a)\n",
    "\n",
    "def KolmogorovCd(x):\n",
    "    s = 0\n",
    "    N = 100\n",
    "    for i in range(1, N):\n",
    "        s += (-1) ** i * np.exp(-2 * i * i * x * x)\n",
    "    return 1 + 2 * s"
   ]
  },
  {
   "cell_type": "markdown",
   "id": "6a0bd51b",
   "metadata": {},
   "source": [
    "### p-value для Колмогорова"
   ]
  },
  {
   "cell_type": "code",
   "execution_count": 11,
   "id": "f15c759c",
   "metadata": {},
   "outputs": [
    {
     "name": "stdout",
     "output_type": "stream",
     "text": [
      "p-value для критерия Колмогорова =  0.032851885438597406\n"
     ]
    }
   ],
   "source": [
    "n = 100\n",
    "kolmog_delta = KolmogorovDelta((0, 9), sample, n, Linear)\n",
    "p_value2 = 1 - KolmogorovCd(kolmog_delta)\n",
    "print('p-value для критерия Колмогорова = ', p_value2)"
   ]
  },
  {
   "cell_type": "markdown",
   "id": "375a6899",
   "metadata": {},
   "source": [
    "## b)"
   ]
  },
  {
   "cell_type": "markdown",
   "id": "aa7d1abc",
   "metadata": {},
   "source": [
    "## Проверка c помощью χ²"
   ]
  },
  {
   "cell_type": "markdown",
   "id": "00267bda",
   "metadata": {},
   "source": [
    "### Минимизация"
   ]
  },
  {
   "cell_type": "code",
   "execution_count": 12,
   "id": "26dfc16b",
   "metadata": {},
   "outputs": [],
   "source": [
    "intervals = [[-np.inf, 1]]\n",
    "for i in range(8):\n",
    "    intervals.append([i + 1, i + 2])\n",
    "intervals.append([9, np.inf])"
   ]
  },
  {
   "cell_type": "code",
   "execution_count": 13,
   "id": "09ff8674",
   "metadata": {},
   "outputs": [],
   "source": [
    "def ProbabilityDensity(x, t1, t2):\n",
    "    return 1 / np.sqrt(2 * np.pi) / t2 * np.exp(-(x - t1) ** 2 / (t2 * t2) / 2)\n",
    "\n",
    "def ProbabilityFunction(x, t1, t2):\n",
    "    return scipy.integrate.quad(ProbabilityDensity, x[0], x[-1], args=(t1, t2))[0]"
   ]
  },
  {
   "cell_type": "code",
   "execution_count": 14,
   "id": "705d23aa",
   "metadata": {},
   "outputs": [],
   "source": [
    "def LikelihoodFunction(x):\n",
    "    mean = x[0]\n",
    "    sigma = x[1]\n",
    "    pows = [5, 8, 6, 12, 14, 18, 11, 6, 13, 7]\n",
    "    intervals = [[-np.inf, 1]]\n",
    "    for i in range(8):\n",
    "        intervals.append([i + 1, i + 2])\n",
    "    intervals.append([9, np.inf])\n",
    "    res = 1\n",
    "    for i in range(len(intervals)):\n",
    "        res *= ProbabilityFunction(intervals[i], mean, sigma) ** pows[i]\n",
    "    \n",
    "    return -res"
   ]
  },
  {
   "cell_type": "code",
   "execution_count": 15,
   "id": "6bf2aa0c",
   "metadata": {},
   "outputs": [
    {
     "name": "stdout",
     "output_type": "stream",
     "text": [
      "Точки минимума функции правдоподобия\n",
      "Cреднее = 5.289633051826962 sigma = 2.679530687575016\n"
     ]
    }
   ],
   "source": [
    "x0 = [5, 1]\n",
    "result = minimize(LikelihoodFunction, x0, method='Nelder-Mead')\n",
    "mean, sigma = result.x\n",
    "print('Точки минимума функции правдоподобия')\n",
    "print('Cреднее =', mean, 'sigma =',sigma)"
   ]
  },
  {
   "cell_type": "code",
   "execution_count": 16,
   "id": "bdbb5f95",
   "metadata": {},
   "outputs": [],
   "source": [
    "def DeltaChiSecond(mean, sigma, sample, intervals):\n",
    "    counts = [Count(sample)[i] for i in Count(sample)]\n",
    "    s = 0\n",
    "    for i in range(len(counts)):\n",
    "        np = n * ProbabilityFunction(intervals[i], mean, sigma)\n",
    "        tmp = (counts[i] - np) ** 2 / np\n",
    "        s += tmp\n",
    "    return s"
   ]
  },
  {
   "cell_type": "markdown",
   "id": "6a569be8",
   "metadata": {},
   "source": [
    "### p-value для χ²"
   ]
  },
  {
   "cell_type": "code",
   "execution_count": 17,
   "id": "31a704c3",
   "metadata": {},
   "outputs": [
    {
     "name": "stdout",
     "output_type": "stream",
     "text": [
      "p-value для χ² =  0.2000369256902222\n"
     ]
    }
   ],
   "source": [
    "delta = DeltaChiSecond(mean, sigma, sample, intervals)\n",
    "p_value_b_chi = Chi2XtoInf(delta, 7)\n",
    "print('p-value для χ² = ', p_value_b_chi)"
   ]
  },
  {
   "cell_type": "markdown",
   "id": "0233c5d3",
   "metadata": {},
   "source": [
    "## Проверка по Колмогорову"
   ]
  },
  {
   "cell_type": "code",
   "execution_count": 18,
   "id": "bce57328",
   "metadata": {},
   "outputs": [],
   "source": [
    "def ModulateNormal(mean, sigma, n):\n",
    "    s = np.random.normal(mean, sigma, n).astype(int)\n",
    "    s[s > 9] = 9\n",
    "    s[s < 0] = 0\n",
    "    s = np.sort(s)\n",
    "    return s\n",
    "\n",
    "def GaussGenerateSamples(mean, sigma, N = 1000):\n",
    "    return [ModulateNormal(mean, sigma, n) for _ in range(N)]"
   ]
  },
  {
   "cell_type": "code",
   "execution_count": 19,
   "id": "34ce0cb8",
   "metadata": {},
   "outputs": [],
   "source": [
    "def Sigma(sample, n = 100):\n",
    "    return np.sqrt(n / (n - 1) * np.var(sample))"
   ]
  },
  {
   "cell_type": "code",
   "execution_count": 20,
   "id": "aa995b6b",
   "metadata": {},
   "outputs": [],
   "source": [
    "def ProbabilityFunctionWrap(x, args):\n",
    "    mean, sigma = args\n",
    "    args = [-np.inf, x]\n",
    "    return ProbabilityFunction(args, mean, sigma)\n",
    "    #return scipy.stats.norm(mean, sigma).cdf(x)"
   ]
  },
  {
   "cell_type": "code",
   "execution_count": 21,
   "id": "27ab1b5d",
   "metadata": {},
   "outputs": [],
   "source": [
    "def ParametricBootstrapForKolmogorov(sample):\n",
    "    mean = np.mean(sample)\n",
    "    sigma = Sigma(sample)\n",
    "    N = 1000\n",
    "    generated =  GaussGenerateSamples(mean, sigma, N)\n",
    "    n = len(sample)\n",
    "    \n",
    "    delta_wave = KolmogorovDelta((mean, sigma), sample, n, ProbabilityFunctionWrap)\n",
    "    print('delta_wave = ', delta_wave)\n",
    "    \n",
    "    delts = np.array([])\n",
    "    for cur_sample in generated:\n",
    "        cur_mean = np.mean(cur_sample)\n",
    "        cur_sigma = Sigma(cur_sample)\n",
    "        d = KolmogorovDelta((cur_mean, cur_sigma), cur_sample, n, ProbabilityFunctionWrap)\n",
    "        delts = np.append(delts, d)\n",
    "\n",
    "    return len(delts[delts > delta_wave]) / N\n",
    "    "
   ]
  },
  {
   "cell_type": "markdown",
   "id": "eebb6e9a",
   "metadata": {},
   "source": [
    "### p-value для Колмогорова"
   ]
  },
  {
   "cell_type": "code",
   "execution_count": 22,
   "id": "5ee797c1",
   "metadata": {},
   "outputs": [
    {
     "name": "stdout",
     "output_type": "stream",
     "text": [
      "delta_wave =  1.0020942299329105\n",
      "p-value для Колмогорова =  0.866\n"
     ]
    }
   ],
   "source": [
    "p_value = ParametricBootstrapForKolmogorov(sample)\n",
    "print('p-value для Колмогорова = ', p_value)"
   ]
  },
  {
   "cell_type": "code",
   "execution_count": 57,
   "id": "dd534b46",
   "metadata": {},
   "outputs": [
    {
     "data": {
      "image/png": "[encoded data removed]",
      "text/plain": [
       "<Figure size 640x480 with 1 Axes>"
      ]
     },
     "metadata": {},
     "output_type": "display_data"
    }
   ],
   "source": [
    "x = np.linspace(-2.5, 12, 1000)\n",
    "y = [ProbabilityFunctionWrap(i, (np.mean(sample), Sigma(sample))) for i in x]\n",
    "plt.plot(x, y)\n",
    "\n",
    "counts = Count(sample)\n",
    "heights = Heights(counts, 100)\n",
    "\n",
    "EmpericalFunction(sample, x, heights)"
   ]
  },
  {
   "cell_type": "code",
   "execution_count": null,
   "id": "d2bf5d65",
   "metadata": {},
   "outputs": [],
   "source": []
  },
  {
   "cell_type": "code",
   "execution_count": null,
   "id": "112afb08",
   "metadata": {},
   "outputs": [],
   "source": []
  },
  {
   "cell_type": "code",
   "execution_count": null,
   "id": "83bffe73",
   "metadata": {},
   "outputs": [],
   "source": []
  },
  {
   "cell_type": "code",
   "execution_count": 58,
   "id": "eb6ad337",
   "metadata": {},
   "outputs": [],
   "source": [
    "new_sample = ModulateNormal(np.mean(sample), Sigma(sample), 100)"
   ]
  },
  {
   "cell_type": "code",
   "execution_count": 54,
   "id": "74fafa23",
   "metadata": {},
   "outputs": [
    {
     "name": "stdout",
     "output_type": "stream",
     "text": [
      "[0 0 0 0 0 1 1 1 2 2 2 2 2 2 2 2 3 3 3 3 3 3 3 3 3 3 3 3 3 3 3 3 3 3 3 3 4\n",
      " 4 4 4 4 4 4 4 4 4 4 4 4 4 4 4 5 5 5 5 5 5 5 5 5 5 5 5 5 5 5 6 6 6 6 6 6 6\n",
      " 6 6 6 6 6 7 7 7 7 7 7 7 7 7 7 7 7 7 7 7 8 8 8 8 9 9]\n",
      "Counter({3: 20, 4: 16, 5: 15, 7: 15, 6: 12, 2: 8, 0: 5, 8: 4, 1: 3, 9: 2})\n",
      "{0: 0.0, 1: 0.0, 2: 0.0, 3: 0.0, 4: 0.0, 5: 0.15, 6: 0.2700000000000001, 7: 0.4200000000000002, 8: 0.5000000000000002, 9: 0.5400000000000003}\n"
     ]
    },
    {
     "data": {
      "image/png": "[encoded data removed]",
      "text/plain": [
       "<Figure size 640x480 with 1 Axes>"
      ]
     },
     "metadata": {},
     "output_type": "display_data"
    }
   ],
   "source": [
    "x = np.linspace(-2.5, 12, 1000)\n",
    "y = [ProbabilityFunctionWrap(i, (np.mean(sample), Sigma(sample))) for i in x]\n",
    "plt.plot(x, y)\n",
    "\n",
    "\n",
    "print(new_sample)\n",
    "counts = Count(new_sample)\n",
    "print(counts)\n",
    "heights = Heights(new_sample, 100)\n",
    "print(heights)\n",
    "EmpericalFunction(new_sample, x, heights)"
   ]
  },
  {
   "cell_type": "code",
   "execution_count": null,
   "id": "0bf7fe80",
   "metadata": {},
   "outputs": [],
   "source": [
    "def Hheights(sample, n):\n",
    "    cur_h = 0\n",
    "    heights = dict()\n",
    "    for cur_key in counts:\n",
    "        frequence = counts[cur_key] / n\n",
    "        heights[cur_key] = cur_h + frequence\n",
    "        cur_h += frequence\n",
    "        \n",
    "    return heights"
   ]
  }
 ],
 "metadata": {
  "kernelspec": {
   "display_name": "Python 3 (ipykernel)",
   "language": "python",
   "name": "python3"
  },
  "language_info": {
   "codemirror_mode": {
    "name": "ipython",
    "version": 3
   },
   "file_extension": ".py",
   "mimetype": "text/x-python",
   "name": "python",
   "nbconvert_exporter": "python",
   "pygments_lexer": "ipython3",
   "version": "3.11.5"
  }
 },
 "nbformat": 4,
 "nbformat_minor": 5
}
