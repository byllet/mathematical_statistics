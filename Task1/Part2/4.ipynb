{
 "cells": [
  {
   "cell_type": "code",
   "execution_count": 28,
   "id": "f7db2a8e",
   "metadata": {},
   "outputs": [],
   "source": [
    "import numpy as np\n",
    "import matplotlib.pyplot as plt"
   ]
  },
  {
   "cell_type": "code",
   "execution_count": 29,
   "id": "8f6a55bc",
   "metadata": {},
   "outputs": [],
   "source": [
    "def GenerateRandomUniform(N: int, theta: float) -> np.array:\n",
    "    array = np.random.uniform(theta, 2 * theta, N)\n",
    "    array.sort()\n",
    "    return array"
   ]
  },
  {
   "cell_type": "code",
   "execution_count": 30,
   "id": "099b97dc",
   "metadata": {},
   "outputs": [
    {
     "name": "stdout",
     "output_type": "stream",
     "text": [
      "θ = 9.9 \n",
      "Сгенерированная выборка =  [10.21307712 10.44218218 10.50052218 10.54007257 10.70635135 10.96361282\n",
      " 11.01063492 11.04494605 11.11383858 11.14254147 11.14820232 11.16143245\n",
      " 11.21145583 11.24934145 11.260487   11.27551022 11.28631632 11.29796733\n",
      " 11.63472489 11.67001352 11.72599816 11.77235638 11.91361491 11.95619657\n",
      " 12.04842934 12.06960622 12.15866822 12.26522294 12.28513133 12.32499488\n",
      " 12.49551538 12.65854138 12.78734614 12.86193201 12.87676187 12.94525089\n",
      " 13.10189202 13.18367743 13.40130155 13.40845129 13.52599178 13.52614985\n",
      " 13.95390531 14.0147399  14.01968762 14.02379511 14.06081405 14.13946321\n",
      " 14.33287839 14.44528268 14.48704103 14.56836766 14.68421497 14.87178661\n",
      " 14.97912083 15.16452344 15.17209402 15.17740968 15.21380108 15.21526358\n",
      " 15.33907329 15.51438965 15.53547297 15.56523921 15.69945519 15.82704067\n",
      " 15.93103252 15.95173232 16.29604665 16.30210641 16.51521018 16.82351713\n",
      " 16.90639308 17.22438586 17.24058631 17.24915943 17.31826173 17.32749876\n",
      " 17.35859414 17.71511429 17.77241297 17.83038128 17.96924728 18.03726445\n",
      " 18.18778261 18.30912157 18.32736724 18.42165122 18.5258936  18.59708716\n",
      " 18.66552281 18.95953999 19.0358764  19.23727612 19.40015403 19.43012162\n",
      " 19.6225869  19.63143028 19.66613965 19.74344506]\n"
     ]
    }
   ],
   "source": [
    "N = 100\n",
    "theta = 9.9\n",
    "generated = GenerateRandomUniform(N, theta)\n",
    "print(f\"θ = {theta} \\nСгенерированная выборка = \", generated)"
   ]
  },
  {
   "cell_type": "markdown",
   "id": "0ca75acd",
   "metadata": {},
   "source": [
    "## Точный доверительный интервал "
   ]
  },
  {
   "cell_type": "code",
   "execution_count": 31,
   "id": "7f458bba",
   "metadata": {},
   "outputs": [],
   "source": [
    "def ConfidenceIntervalАccurateTheta(sample):\n",
    "    x_max = np.max(sample)\n",
    "    n = len(sample)\n",
    "    t1 = np.power(0.025, 1 / n) + 1\n",
    "    t2 = np.power(0.975, 1 / n) + 1\n",
    "    left = x_max / t2\n",
    "    right = x_max / t1\n",
    "    return (left, right)"
   ]
  },
  {
   "cell_type": "code",
   "execution_count": 32,
   "id": "d9aa2349",
   "metadata": {
    "scrolled": true
   },
   "outputs": [
    {
     "name": "stdout",
     "output_type": "stream",
     "text": [
      "9.872972180775152 10.053779856395186\n",
      "Точный доверительный интервал. Длина = 0.1808076756200343\n"
     ]
    }
   ],
   "source": [
    "a, b = ConfidenceIntervalАccurateTheta(generated)\n",
    "print(a, b)\n",
    "print(\"Точный доверительный интервал. Длина =\", b - a)"
   ]
  },
  {
   "cell_type": "markdown",
   "id": "f8bdc45e",
   "metadata": {},
   "source": [
    "## Асимптотический доверительный интервал. ОММ"
   ]
  },
  {
   "cell_type": "code",
   "execution_count": 33,
   "id": "d183ff83",
   "metadata": {},
   "outputs": [],
   "source": [
    "def ConfidenceIntervalAsymptoticThetaOMM(x):\n",
    "    x_avg = np.mean(x)\n",
    "    g_alpha = 2 / 3 * x_avg  \n",
    "    n = len(x)\n",
    "    alpha_1 = x_avg\n",
    "    alpha_2 = np.mean(x * x)\n",
    "    same_part =  1.96 * 2 * np.sqrt(alpha_2 - alpha_1 ** 2) / n ** 0.5 / 3\n",
    "    left = - same_part + g_alpha\n",
    "    right = same_part + g_alpha\n",
    "    return (left, right)"
   ]
  },
  {
   "cell_type": "code",
   "execution_count": 34,
   "id": "66e0bee5",
   "metadata": {},
   "outputs": [
    {
     "name": "stdout",
     "output_type": "stream",
     "text": [
      "9.40348859078137 10.139192240313756\n",
      "Асимптотический ОММ. Длина = 0.7357036495323861\n"
     ]
    }
   ],
   "source": [
    "a, b = ConfidenceIntervalAsymptoticThetaOMM(generated)\n",
    "print(a, b)\n",
    "print(\"Асимптотический ОММ. Длина =\", b - a)"
   ]
  },
  {
   "cell_type": "markdown",
   "id": "ebb33e74",
   "metadata": {},
   "source": [
    "## Bootstrap"
   ]
  },
  {
   "cell_type": "code",
   "execution_count": 35,
   "id": "f427856b",
   "metadata": {},
   "outputs": [],
   "source": [
    "def BootstrapGenerate(data, n_bootstrap_samples=1000):\n",
    "    return [np.random.choice(data, size=len(data), replace=True) for _ in range(n_bootstrap_samples)]"
   ]
  },
  {
   "cell_type": "code",
   "execution_count": 36,
   "id": "42047799",
   "metadata": {},
   "outputs": [],
   "source": [
    "def UniformGenerate(x, N):\n",
    "    theta = max(x) / 2\n",
    "    return [GenerateRandomUniform(len(x), theta) for _ in range(N)]\n",
    "\n",
    "def BootstrapParametricTheta(x):\n",
    "    N = 50000\n",
    "    generated_with_model = UniformGenerate(x, N)\n",
    "    theta_stars = []\n",
    "    for current_sample in generated_with_model:\n",
    "        theta_stars.append(np.mean(current_sample) * 2 / 3)\n",
    "    theta_stars = np.sort(theta_stars)\n",
    "    k1 = int((1 - 0.95) * N / 2) - 1\n",
    "    k2 = int((1 + 0.95) * N / 2) - 1 \n",
    "    return theta_stars[k1], theta_stars[k2]"
   ]
  },
  {
   "cell_type": "code",
   "execution_count": 37,
   "id": "0d2bd3e1",
   "metadata": {},
   "outputs": [
    {
     "name": "stdout",
     "output_type": "stream",
     "text": [
      "9.497879631427287 10.243083587310112\n",
      "Параметрический bootstrap. Оценка - ОММ. Длина = 0.7452039558828254\n"
     ]
    }
   ],
   "source": [
    "a, b = BootstrapParametricTheta(generated)\n",
    "print(a, b)\n",
    "print(\"Параметрический bootstrap. Оценка - ОММ. Длина =\", b - a)"
   ]
  },
  {
   "cell_type": "code",
   "execution_count": 38,
   "id": "1885b573",
   "metadata": {},
   "outputs": [],
   "source": [
    "def BootstrapNonParametricTheta(sample):\n",
    "    bootstrap_generated = BootstrapGenerate(sample, 1000)\n",
    "    theta_star = 2 / 3  * np.mean(sample)\n",
    "    delts = []\n",
    "    for current_sample in bootstrap_generated:\n",
    "        delts.append(2 / 3 * np.mean(current_sample) - theta_star)\n",
    "    delts.sort()\n",
    "    return (-delts[974] + theta_star , -delts[24] + theta_star)"
   ]
  },
  {
   "cell_type": "code",
   "execution_count": 39,
   "id": "6e9df6c8",
   "metadata": {},
   "outputs": [
    {
     "name": "stdout",
     "output_type": "stream",
     "text": [
      "9.39194554763268 10.120664300654688\n",
      "Непараметрический bootstrap. Оценка - ОММ. Длина = 0.7287187530220081\n"
     ]
    }
   ],
   "source": [
    "a, b = BootstrapNonParametricTheta(generated)\n",
    "print(a, b)\n",
    "print(\"Непараметрический bootstrap. Оценка - ОММ. Длина =\", b - a)"
   ]
  },
  {
   "cell_type": "markdown",
   "id": "2370db59",
   "metadata": {},
   "source": [
    "## Сравнение доверительных интервалов"
   ]
  },
  {
   "cell_type": "code",
   "execution_count": 40,
   "id": "97fd4be1",
   "metadata": {},
   "outputs": [],
   "source": [
    "def Compare(sample, func_list, names_list):\n",
    "    h = 0\n",
    "    for f in func_list:\n",
    "        left, right = f(sample)\n",
    "        x = np.linspace(left, right, len(sample))\n",
    "        y = [h] * len(x)\n",
    "        plt.plot(x, y)\n",
    "        h -= 0.1 \n",
    "    plt.legend(names_list)\n",
    "    ax = plt.gca()\n",
    "    ax.get_yaxis().set_visible(False)"
   ]
  },
  {
   "cell_type": "code",
   "execution_count": 41,
   "id": "74b26814",
   "metadata": {},
   "outputs": [
    {
     "data": {
      "image/png": "[encoded data removed]",
      "text/plain": [
       "<Figure size 640x480 with 1 Axes>"
      ]
     },
     "metadata": {},
     "output_type": "display_data"
    }
   ],
   "source": [
    "func_list = [ConfidenceIntervalАccurateTheta, BootstrapParametricTheta, BootstrapNonParametricTheta, ConfidenceIntervalAsymptoticThetaOMM]\n",
    "names_list = ['Точный', 'Парам b', 'Непарам b', 'ОММ']\n",
    "Compare(generated, func_list, names_list)"
   ]
  }
 ],
 "metadata": {
  "kernelspec": {
   "display_name": "Python 3 (ipykernel)",
   "language": "python",
   "name": "python3"
  },
  "language_info": {
   "codemirror_mode": {
    "name": "ipython",
    "version": 3
   },
   "file_extension": ".py",
   "mimetype": "text/x-python",
   "name": "python",
   "nbconvert_exporter": "python",
   "pygments_lexer": "ipython3",
   "version": "3.11.5"
  }
 },
 "nbformat": 4,
 "nbformat_minor": 5
}
