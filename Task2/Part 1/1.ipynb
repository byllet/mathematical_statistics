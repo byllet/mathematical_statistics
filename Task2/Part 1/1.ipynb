{
 "cells": [
  {
   "cell_type": "code",
   "execution_count": 14,
   "id": "45832b8e",
   "metadata": {},
   "outputs": [],
   "source": [
    "import numpy as np\n",
    "import matplotlib.pyplot as plt\n",
    "from scipy import stats\n",
    "import pandas as pd\n",
    "import random\n",
    "from scipy.stats import t, f, norm"
   ]
  },
  {
   "cell_type": "code",
   "execution_count": 15,
   "id": "de172a84",
   "metadata": {},
   "outputs": [],
   "source": [
    "def GenerateUniform(N):\n",
    "    ksi = np.random.uniform(-1, 1, N)\n",
    "    return ksi\n",
    "\n",
    "def GenerateNormal(mean, sigma, n):\n",
    "    eta = np.random.normal(mean, sigma, n)\n",
    "    return eta"
   ]
  },
  {
   "cell_type": "code",
   "execution_count": 16,
   "id": "a49256a5",
   "metadata": {},
   "outputs": [],
   "source": [
    "def GenerateSample(n):\n",
    "    x = []\n",
    "    for i in range(n):\n",
    "        coefs = np.array([3, -2, 1, 1, -1])\n",
    "        ksi = GenerateUniform(5)\n",
    "        eta = GenerateNormal(2 + ksi @ coefs, 1.5, 1)\n",
    "        x.append(np.concatenate((ksi, eta)))\n",
    "    return np.array(x)"
   ]
  },
  {
   "cell_type": "code",
   "execution_count": 17,
   "id": "0352d3f6",
   "metadata": {},
   "outputs": [
    {
     "data": {
      "text/html": [
       "<div>\n",
       "<style scoped>\n",
       "    .dataframe tbody tr th:only-of-type {\n",
       "        vertical-align: middle;\n",
       "    }\n",
       "\n",
       "    .dataframe tbody tr th {\n",
       "        vertical-align: top;\n",
       "    }\n",
       "\n",
       "    .dataframe thead th {\n",
       "        text-align: right;\n",
       "    }\n",
       "</style>\n",
       "<table border=\"1\" class=\"dataframe\">\n",
       "  <thead>\n",
       "    <tr style=\"text-align: right;\">\n",
       "      <th></th>\n",
       "      <th>x1</th>\n",
       "      <th>x2</th>\n",
       "      <th>x3</th>\n",
       "      <th>x4</th>\n",
       "      <th>x5</th>\n",
       "      <th>etta</th>\n",
       "    </tr>\n",
       "  </thead>\n",
       "  <tbody>\n",
       "    <tr>\n",
       "      <th>0</th>\n",
       "      <td>0.043251</td>\n",
       "      <td>-0.993840</td>\n",
       "      <td>0.449003</td>\n",
       "      <td>0.312583</td>\n",
       "      <td>-0.669734</td>\n",
       "      <td>4.237631</td>\n",
       "    </tr>\n",
       "    <tr>\n",
       "      <th>1</th>\n",
       "      <td>-0.857078</td>\n",
       "      <td>0.399483</td>\n",
       "      <td>-0.040812</td>\n",
       "      <td>0.540946</td>\n",
       "      <td>0.876100</td>\n",
       "      <td>-0.374751</td>\n",
       "    </tr>\n",
       "    <tr>\n",
       "      <th>2</th>\n",
       "      <td>-0.499265</td>\n",
       "      <td>-0.452540</td>\n",
       "      <td>0.234011</td>\n",
       "      <td>-0.374821</td>\n",
       "      <td>-0.456122</td>\n",
       "      <td>1.664842</td>\n",
       "    </tr>\n",
       "    <tr>\n",
       "      <th>3</th>\n",
       "      <td>-0.333040</td>\n",
       "      <td>-0.051618</td>\n",
       "      <td>-0.001454</td>\n",
       "      <td>0.322310</td>\n",
       "      <td>0.712139</td>\n",
       "      <td>-1.650209</td>\n",
       "    </tr>\n",
       "    <tr>\n",
       "      <th>4</th>\n",
       "      <td>0.175984</td>\n",
       "      <td>0.568327</td>\n",
       "      <td>-0.553519</td>\n",
       "      <td>0.340715</td>\n",
       "      <td>-0.554443</td>\n",
       "      <td>1.690759</td>\n",
       "    </tr>\n",
       "    <tr>\n",
       "      <th>5</th>\n",
       "      <td>0.789823</td>\n",
       "      <td>-0.048599</td>\n",
       "      <td>-0.272376</td>\n",
       "      <td>0.575609</td>\n",
       "      <td>-0.059920</td>\n",
       "      <td>6.526589</td>\n",
       "    </tr>\n",
       "  </tbody>\n",
       "</table>\n",
       "</div>"
      ],
      "text/plain": [
       "         x1        x2        x3        x4        x5      etta\n",
       "0  0.043251 -0.993840  0.449003  0.312583 -0.669734  4.237631\n",
       "1 -0.857078  0.399483 -0.040812  0.540946  0.876100 -0.374751\n",
       "2 -0.499265 -0.452540  0.234011 -0.374821 -0.456122  1.664842\n",
       "3 -0.333040 -0.051618 -0.001454  0.322310  0.712139 -1.650209\n",
       "4  0.175984  0.568327 -0.553519  0.340715 -0.554443  1.690759\n",
       "5  0.789823 -0.048599 -0.272376  0.575609 -0.059920  6.526589"
      ]
     },
     "execution_count": 17,
     "metadata": {},
     "output_type": "execute_result"
    }
   ],
   "source": [
    "sample = GenerateSample(50)\n",
    "data = pd.DataFrame(sample, columns = ['x1','x2','x3','x4','x5','etta'])\n",
    "data.head(6)"
   ]
  },
  {
   "cell_type": "markdown",
   "id": "d45d2c05",
   "metadata": {},
   "source": [
    "### y = b1 + b2x1 + b3x2 + b4x3 + b5x4 + b6x5"
   ]
  },
  {
   "cell_type": "code",
   "execution_count": 18,
   "id": "f6bca22d",
   "metadata": {},
   "outputs": [],
   "source": [
    "n = 50\n",
    "p = 6"
   ]
  },
  {
   "cell_type": "code",
   "execution_count": 19,
   "id": "0fd397da",
   "metadata": {},
   "outputs": [],
   "source": [
    "def PSIFunc(sample):\n",
    "    n = len(sample)\n",
    "    return np.concatenate((np.matrix([1] * n).reshape(n, 1), sample[:, :-1]), axis=1)\n",
    "\n",
    "def FFunc(sample):\n",
    "    PSI = PSIFunc(sample)\n",
    "    return PSI.T @ PSI\n",
    "\n",
    "def BetaFunc(sample):\n",
    "    Y = sample[:, -1]\n",
    "    PSI = PSIFunc(sample)\n",
    "    F = FFunc(sample)\n",
    "    return np.array(np.linalg.inv(F) @ PSI.T @ Y)[0]\n",
    "\n",
    "def EFunc(sample):\n",
    "    Y = sample[:, -1]\n",
    "    PSI = PSIFunc(sample)\n",
    "    return np.array(Y - PSI @ BetaFunc(sample))[0]\n",
    "\n",
    "def RSSFunc(sample):\n",
    "    e = EFunc(sample)\n",
    "    return e @ e.T\n",
    "\n",
    "def TSSFunc(sample):\n",
    "    Y = sample[:, -1]\n",
    "    mean = np.mean(Y)\n",
    "    return np.sum((Y - mean) ** 2)\n",
    "\n",
    "def R2Func(sample):\n",
    "    tss = TSSFunc(sample)\n",
    "    rss = RSSFunc(sample)\n",
    "    return (tss - rss) / tss"
   ]
  },
  {
   "cell_type": "code",
   "execution_count": 20,
   "id": "4ac91ab7",
   "metadata": {},
   "outputs": [],
   "source": [
    "def PrintEq(beta):\n",
    "    print(f\"y = {round(beta[0], 2)} \", end='')\n",
    "    for i in range(1, len(beta)):\n",
    "        print(f\"{'+' if beta[i] > 0 else '-'} {abs(round(beta[i], 1))}*x{i} \", end='')\n",
    "    print('+ e')"
   ]
  },
  {
   "cell_type": "code",
   "execution_count": 21,
   "id": "a4d70ad2",
   "metadata": {
    "scrolled": true
   },
   "outputs": [
    {
     "name": "stdout",
     "output_type": "stream",
     "text": [
      "y = 1.74 + 4.1*x1 - 1.4*x2 + 1.2*x3 + 1.6*x4 - 0.1*x5 + e\n"
     ]
    }
   ],
   "source": [
    "beta = BetaFunc(sample)\n",
    "PrintEq(beta)"
   ]
  },
  {
   "cell_type": "markdown",
   "id": "cae4db53",
   "metadata": {},
   "source": [
    "## Проверка ну мультиколлинеарность "
   ]
  },
  {
   "cell_type": "code",
   "execution_count": 36,
   "id": "309a9675",
   "metadata": {},
   "outputs": [],
   "source": [
    "def MultCheck(sample):\n",
    "    wide = np.shape(sample)[1] - 1\n",
    "    for i in range(wide):\n",
    "        cur = np.array(sample[:, :-1], copy=True)\n",
    "        cur[:, i], cur[:, wide - 1] = sample[:, wide - 1], sample[:, i]\n",
    "        print(R2Func(cur), \"< 0.7, => не существенно связано\")"
   ]
  },
  {
   "cell_type": "code",
   "execution_count": 37,
   "id": "a5db9295",
   "metadata": {},
   "outputs": [
    {
     "name": "stdout",
     "output_type": "stream",
     "text": [
      "0.1490765494992467 < 0.7, => не существенно связано\n",
      "0.028322176392003753 < 0.7, => не существенно связано\n",
      "0.13958829993049246 < 0.7, => не существенно связано\n",
      "0.07847973119835672 < 0.7, => не существенно связано\n",
      "0.11287020405477957 < 0.7, => не существенно связано\n"
     ]
    }
   ],
   "source": [
    "MultCheck(sample)"
   ]
  },
  {
   "cell_type": "markdown",
   "id": "ae76e500",
   "metadata": {},
   "source": [
    "### Проверка значимости коэффициентов"
   ]
  },
  {
   "cell_type": "code",
   "execution_count": 38,
   "id": "89a2230a",
   "metadata": {},
   "outputs": [],
   "source": [
    "def Significance(sample):\n",
    "    deltas = []\n",
    "    F = FFunc(sample)\n",
    "    rss = RSSFunc(sample)\n",
    "    beta = BetaFunc(sample)\n",
    "    deltas = beta / np.sqrt(rss * np.diag(np.linalg.inv(F)) / 44)\n",
    "    p_values = 2 * t.sf(np.abs(deltas), 44)\n",
    "    return p_values"
   ]
  },
  {
   "cell_type": "code",
   "execution_count": 39,
   "id": "d0ebf348",
   "metadata": {},
   "outputs": [
    {
     "name": "stdout",
     "output_type": "stream",
     "text": [
      "[1 2 3 4 5] значимые\n"
     ]
    }
   ],
   "source": [
    "significance = Significance(sample)\n",
    "print(np.arange(1, 7)[significance < 0.05], 'значимые')"
   ]
  },
  {
   "cell_type": "code",
   "execution_count": 40,
   "id": "a4b367d2",
   "metadata": {},
   "outputs": [
    {
     "data": {
      "text/plain": [
       "array([1.34992134e-10, 2.65786599e-13, 8.43146888e-04, 3.18307826e-03,\n",
       "       6.21469224e-05, 8.35224112e-01])"
      ]
     },
     "execution_count": 40,
     "metadata": {},
     "output_type": "execute_result"
    }
   ],
   "source": [
    "significance"
   ]
  },
  {
   "cell_type": "markdown",
   "id": "4426f7de",
   "metadata": {},
   "source": [
    "### R2"
   ]
  },
  {
   "cell_type": "code",
   "execution_count": 51,
   "id": "5305da43",
   "metadata": {},
   "outputs": [
    {
     "name": "stdout",
     "output_type": "stream",
     "text": [
      "R2 =  0.757\n"
     ]
    }
   ],
   "source": [
    "r2 = R2Func(sample)\n",
    "print('R2 = ', round(r2, 3))"
   ]
  },
  {
   "cell_type": "code",
   "execution_count": 52,
   "id": "86c018e8",
   "metadata": {},
   "outputs": [],
   "source": [
    "def R2PVALUE(sample):\n",
    "    r2 = R2Func(sample)\n",
    "    n = len(sample)\n",
    "    p = len(BetaFunc(sample))\n",
    "    delta_tss = r2 / (1 - r2) * (n - p) / (p - 1) \n",
    "    p_value_tss = f.sf(delta_tss, p - 1, n - p)\n",
    "    return p_value_tss"
   ]
  },
  {
   "cell_type": "code",
   "execution_count": 53,
   "id": "6384ea53",
   "metadata": {},
   "outputs": [
    {
     "name": "stdout",
     "output_type": "stream",
     "text": [
      "Влияние факторов существенно, p_value = 0.0\n"
     ]
    }
   ],
   "source": [
    "p_value_tss = R2PVALUE(sample)\n",
    "if (p_value_tss <= 0.05):\n",
    "    print('Влияние факторов существенно, p_value =', round(p_value_tss, 5))"
   ]
  },
  {
   "cell_type": "markdown",
   "id": "14e89757",
   "metadata": {},
   "source": [
    "### Доверительный интервал "
   ]
  },
  {
   "cell_type": "code",
   "execution_count": 54,
   "id": "97b29ac8",
   "metadata": {},
   "outputs": [],
   "source": [
    "def ConfInterval(sample, psi_x0):\n",
    "    beta = BetaFunc(sample)\n",
    "    n = len(sample)\n",
    "    p = len(beta)\n",
    "    y_0 = psi_x0 @ beta\n",
    "    print(y_0)\n",
    "    kappa = np.sqrt(1 + psi_x0 @ np.linalg.inv(FFunc(sample)) @ psi_x0.T)[0, 0]\n",
    "    t_0975 = 1.68\n",
    "    rss = RSSFunc(sample)\n",
    "    same_part = t_0975 * np.sqrt(rss) * kappa / np.sqrt(n - p )\n",
    "    left = y_0 - same_part\n",
    "    right = y_0 + same_part\n",
    "    return left, right"
   ]
  },
  {
   "cell_type": "code",
   "execution_count": 55,
   "id": "34c5fb2c",
   "metadata": {},
   "outputs": [
    {
     "name": "stdout",
     "output_type": "stream",
     "text": [
      "1.7413327452781826\n"
     ]
    },
    {
     "data": {
      "text/plain": [
       "(-0.6604158292704527, 4.143081319826818)"
      ]
     },
     "execution_count": 55,
     "metadata": {},
     "output_type": "execute_result"
    }
   ],
   "source": [
    "psi_x0 = np.array([1, 0, 0, 0, 0, 0])\n",
    "ConfInterval(sample, psi_x0)"
   ]
  },
  {
   "cell_type": "markdown",
   "id": "01b10630",
   "metadata": {},
   "source": [
    "### Независимость ошибок измерения "
   ]
  },
  {
   "cell_type": "code",
   "execution_count": 56,
   "id": "4a6c254e",
   "metadata": {},
   "outputs": [],
   "source": [
    "def Inversions(arr):\n",
    "    return np.sum([np.sum(arr[i] < arr[:i]) for i in range(len(arr))])"
   ]
  },
  {
   "cell_type": "code",
   "execution_count": 57,
   "id": "1f7a328a",
   "metadata": {},
   "outputs": [],
   "source": [
    "def CheckIndepend(sample):\n",
    "    e = EFunc(sample)\n",
    "    I = Inversions(e)\n",
    "    n = len(sample)\n",
    "    delta_errors = (I - n * (n - 1) / 4)  / np.sqrt(n ** 3 / 36)\n",
    "    return 2 * norm.sf(abs(delta_errors), 0, 1)"
   ]
  },
  {
   "cell_type": "code",
   "execution_count": 59,
   "id": "610c3d9d",
   "metadata": {},
   "outputs": [
    {
     "name": "stdout",
     "output_type": "stream",
     "text": [
      "0.581261299930204 они независимы, и одинаково распределены\n"
     ]
    }
   ],
   "source": [
    "if CheckIndepend(sample) >= 0.5:\n",
    "    print(CheckIndepend(sample), \"они независимы, и одинаково распределены\")"
   ]
  },
  {
   "cell_type": "code",
   "execution_count": null,
   "id": "342dffed",
   "metadata": {},
   "outputs": [],
   "source": []
  },
  {
   "cell_type": "markdown",
   "id": "946a3286",
   "metadata": {},
   "source": [
    "### Проверка нормальности"
   ]
  },
  {
   "cell_type": "code",
   "execution_count": 60,
   "id": "b9b09372",
   "metadata": {},
   "outputs": [],
   "source": [
    "from scipy.stats import norm \n",
    "from scipy.stats import moment\n",
    "\n",
    "def F(sample, x):\n",
    "    n = len(sample)\n",
    "    return np.sum(sample < x) / n\n",
    "\n",
    "def Sigma(sample):\n",
    "    n = len(sample)\n",
    "    return np.sqrt(n / (n - 1) * np.var(sample))\n",
    "\n",
    "def KolmogorovDelta(sample):\n",
    "    res = -10\n",
    "    sigma = Sigma(sample)\n",
    "    for i in range(len(sample) - 1):\n",
    "        f = norm.cdf(sample[i], 0, sigma)\n",
    "        F_i = F(sample, sample[i])\n",
    "        F_i_1 = F(sample, sample[i + 1])\n",
    "        res = max(res, abs(f - F_i), abs(f - F_i_1))\n",
    "    return res * len(sample) ** 0.5\n"
   ]
  },
  {
   "cell_type": "code",
   "execution_count": 61,
   "id": "4dd936d8",
   "metadata": {},
   "outputs": [],
   "source": [
    "def ModulateNormal(mean, sigma, n):\n",
    "    s = np.random.normal(mean, sigma, n)\n",
    "    s = np.sort(s)\n",
    "    return s\n",
    "\n",
    "def GaussGenerateSamples(mean, sigma, n, N = 1000):\n",
    "    return [ModulateNormal(mean, sigma, n) for _ in range(N)]\n",
    "\n",
    "def ParametricBootstrapForKolmogorov(xn):\n",
    "    mean = 0\n",
    "    n = len(xn)\n",
    "    sigma = Sigma(xn)\n",
    "    N = 10000\n",
    "    generated =  GaussGenerateSamples(0, sigma, n, N)\n",
    "    \n",
    "    delta_wave = KolmogorovDelta(xn)\n",
    "    print('delta_wave = ', delta_wave)\n",
    "    \n",
    "    delts = np.array([])\n",
    "    for cur_sample in generated:\n",
    "        d = KolmogorovDelta(cur_sample)\n",
    "        delts = np.append(delts, d)\n",
    "        \n",
    "    return len(delts[delts > delta_wave]) / N"
   ]
  },
  {
   "cell_type": "code",
   "execution_count": 62,
   "id": "963e66c5",
   "metadata": {},
   "outputs": [
    {
     "name": "stdout",
     "output_type": "stream",
     "text": [
      "delta_wave =  0.8033059379671899\n"
     ]
    },
    {
     "data": {
      "text/plain": [
       "0.4419"
      ]
     },
     "execution_count": 62,
     "metadata": {},
     "output_type": "execute_result"
    }
   ],
   "source": [
    "e_s = np.sort(EFunc(sample))\n",
    "ParametricBootstrapForKolmogorov(e_s)"
   ]
  },
  {
   "cell_type": "markdown",
   "id": "e41f3f0d",
   "metadata": {},
   "source": [
    "### не оснований отвергать что N(0, sigma ** 2)"
   ]
  },
  {
   "cell_type": "markdown",
   "id": "849525ec",
   "metadata": {},
   "source": [
    "### boxplot"
   ]
  },
  {
   "cell_type": "code",
   "execution_count": 64,
   "id": "0e9037d6",
   "metadata": {},
   "outputs": [],
   "source": [
    "import seaborn as sns\n",
    "\n",
    "def Median(array):\n",
    "    N = len(array)\n",
    "    return np.median(array)\n",
    "\n",
    "def Quartiles(array):\n",
    "    N = len(array)\n",
    "    if (N % 2 == 0):\n",
    "        q1 = Median(array[0 : N//2])\n",
    "        q2 = Median(array[N//2 : N])\n",
    "    else:\n",
    "        q1 = Median(array[0 : N//2])\n",
    "        q2 = Median(array[N//2 + 1 : N])\n",
    "    return q1, q2\n",
    "    \n",
    "def Epsilon(array):\n",
    "    q1, q2 = Quartiles(array)\n",
    "    return q2 - q1\n",
    "    \n",
    "def Boxplot(array):\n",
    "    cur_arr = np.array(array, copy = 1)\n",
    "    cur_arr = np.sort(cur_arr)\n",
    "    sns.boxplot(x=cur_arr, whis=Epsilon(cur_arr)*1.5) #длина усиков = 1.5EPSILON"
   ]
  },
  {
   "cell_type": "code",
   "execution_count": 65,
   "id": "1785c956",
   "metadata": {},
   "outputs": [
    {
     "data": {
      "image/png": "[encoded data removed]",
      "text/plain": [
       "<Figure size 640x480 with 1 Axes>"
      ]
     },
     "metadata": {},
     "output_type": "display_data"
    }
   ],
   "source": [
    "Boxplot(e_s)"
   ]
  },
  {
   "cell_type": "markdown",
   "id": "664df3f9",
   "metadata": {},
   "source": [
    "### cross check"
   ]
  },
  {
   "cell_type": "code",
   "execution_count": 66,
   "id": "ac898daa",
   "metadata": {},
   "outputs": [],
   "source": [
    "def CVSSFunc(sample):\n",
    "    s = 0\n",
    "    for i in range(len(sample)):\n",
    "        cur_sample = np.delete(sample, i, 0)\n",
    "        beta = BetaFunc(cur_sample)\n",
    "        psi0 = np.concatenate(([1] ,sample[i, :-1]))\n",
    "        d = sample[i, -1] - psi0 @ beta\n",
    "        s += d ** 2\n",
    "    return s\n",
    "\n",
    "def R2CVSSFunc(sample):\n",
    "    cvss = CVSSFunc(sample)\n",
    "    tss = TSSFunc(sample)\n",
    "    return (tss - cvss) / tss"
   ]
  },
  {
   "cell_type": "code",
   "execution_count": 98,
   "id": "8eea53cd",
   "metadata": {},
   "outputs": [
    {
     "data": {
      "text/plain": [
       "0.6899110343789183"
      ]
     },
     "execution_count": 98,
     "metadata": {},
     "output_type": "execute_result"
    }
   ],
   "source": [
    "R2CVSSFunc(sample) #предсказывает нормально"
   ]
  },
  {
   "cell_type": "code",
   "execution_count": 99,
   "id": "27b2f8b3",
   "metadata": {},
   "outputs": [
    {
     "data": {
      "text/plain": [
       "112.44235032570288"
      ]
     },
     "execution_count": 99,
     "metadata": {},
     "output_type": "execute_result"
    }
   ],
   "source": [
    "CVSSFunc(sample)"
   ]
  },
  {
   "cell_type": "markdown",
   "id": "d77e3b55",
   "metadata": {},
   "source": [
    "### адекватность "
   ]
  },
  {
   "cell_type": "code",
   "execution_count": 69,
   "id": "1ae4a1ed",
   "metadata": {},
   "outputs": [],
   "source": [
    "def OnOnePoint(ksi, n):\n",
    "    coefs = np.array([3, -2, 1, 1, -1])\n",
    "    eta =  [ ]\n",
    "    for i in range(n):\n",
    "        eta.append(GenerateNormal(2 + ksi @ coefs, 1.5, 1)[0])\n",
    "    return eta\n",
    "\n",
    "def S2(x):\n",
    "    mean = np.mean(x)\n",
    "    return np.sum((x - mean)**2) / ( len(x) - 1) "
   ]
  },
  {
   "cell_type": "code",
   "execution_count": 70,
   "id": "f38325f2",
   "metadata": {
    "scrolled": true
   },
   "outputs": [
    {
     "data": {
      "text/plain": [
       "0.6486636293143653"
      ]
     },
     "execution_count": 70,
     "metadata": {},
     "output_type": "execute_result"
    }
   ],
   "source": [
    "l = 5\n",
    "measurements = OnOnePoint(np.array([0.5, 0.5, 0.5, 0.5, 0.5]), l)\n",
    "s2 = S2(measurements)\n",
    "delta_adecv = RSSFunc(sample) / (n - p) / s2\n",
    "f.sf(delta_adecv, n - p, l - 1)"
   ]
  },
  {
   "cell_type": "code",
   "execution_count": 100,
   "id": "d9a7b0e9",
   "metadata": {},
   "outputs": [],
   "source": [
    "#модель адекватна, p > 0.05"
   ]
  },
  {
   "cell_type": "markdown",
   "id": "90de7654",
   "metadata": {},
   "source": [
    "### удаление"
   ]
  },
  {
   "cell_type": "code",
   "execution_count": 116,
   "id": "ecd1352b",
   "metadata": {},
   "outputs": [],
   "source": [
    "def MinIndex(arr):\n",
    "    return np.where(arr == np.min(arr))[0][0]\n",
    "\n",
    "def MaxIndex(arr):\n",
    "    return np.where(arr == np.max(arr))[0][0]"
   ]
  },
  {
   "cell_type": "code",
   "execution_count": 117,
   "id": "f12fde86",
   "metadata": {},
   "outputs": [
    {
     "data": {
      "text/plain": [
       "array([1.34992134e-10, 2.65786599e-13, 8.43146888e-04, 3.18307826e-03,\n",
       "       6.21469224e-05, 8.35224112e-01])"
      ]
     },
     "execution_count": 117,
     "metadata": {},
     "output_type": "execute_result"
    }
   ],
   "source": [
    "significance = Significance(sample)\n",
    "significance"
   ]
  },
  {
   "cell_type": "code",
   "execution_count": 118,
   "id": "9f5d0b2f",
   "metadata": {},
   "outputs": [],
   "source": [
    "new = np.delete(sample, MaxIndex(significance) - 1, 1)"
   ]
  },
  {
   "cell_type": "code",
   "execution_count": 119,
   "id": "d0bd2a70",
   "metadata": {},
   "outputs": [
    {
     "data": {
      "text/plain": [
       "array([1.15053042e-10, 2.54323857e-13, 8.55708589e-04, 1.73906052e-03,\n",
       "       6.33129628e-05])"
      ]
     },
     "execution_count": 119,
     "metadata": {},
     "output_type": "execute_result"
    }
   ],
   "source": [
    "Significance(new)"
   ]
  },
  {
   "cell_type": "code",
   "execution_count": 120,
   "id": "877972f8",
   "metadata": {},
   "outputs": [
    {
     "data": {
      "text/plain": [
       "0.7570612060375922"
      ]
     },
     "execution_count": 120,
     "metadata": {},
     "output_type": "execute_result"
    }
   ],
   "source": [
    "R2Func(new)"
   ]
  },
  {
   "cell_type": "code",
   "execution_count": 121,
   "id": "5c2522c1",
   "metadata": {},
   "outputs": [
    {
     "data": {
      "text/plain": [
       "2.690101753773574e-13"
      ]
     },
     "execution_count": 121,
     "metadata": {},
     "output_type": "execute_result"
    }
   ],
   "source": [
    "R2PVALUE(new)"
   ]
  },
  {
   "cell_type": "markdown",
   "id": "f11d6ec3",
   "metadata": {},
   "source": [
    "### сравнение "
   ]
  },
  {
   "cell_type": "code",
   "execution_count": 108,
   "id": "318fc402",
   "metadata": {},
   "outputs": [],
   "source": [
    "def Compare(sample):\n",
    "    new = np.delete(sample, MaxIndex(significance) - 1, 1)\n",
    "    rss0 = RSSFunc(new)\n",
    "    rss1 = RSSFunc(sample)\n",
    "    beta = BetaFunc(sample)\n",
    "    p1 = len(beta)\n",
    "    p0 = p1 - 1\n",
    "    n = len(sample)\n",
    "    delta = (rss0 - rss1) / rss1 * (n - p1) / (p1 - p0)\n",
    "    return f.sf(delta, p1 - p0, n - p1)"
   ]
  },
  {
   "cell_type": "code",
   "execution_count": 110,
   "id": "93dc23f0",
   "metadata": {},
   "outputs": [
    {
     "data": {
      "text/plain": [
       "0.8352241123160433"
      ]
     },
     "execution_count": 110,
     "metadata": {},
     "output_type": "execute_result"
    }
   ],
   "source": [
    "Compare(sample) # H0: bi = 0 "
   ]
  },
  {
   "cell_type": "code",
   "execution_count": 111,
   "id": "6c9ae2db",
   "metadata": {},
   "outputs": [],
   "source": [
    "def BootstrapGenerate(data, n_bootstrap_samples=1000):\n",
    "    return [np.random.choice(data, size=len(data), replace=True) for _ in range(n_bootstrap_samples)]"
   ]
  },
  {
   "cell_type": "code",
   "execution_count": 112,
   "id": "dab1db64",
   "metadata": {},
   "outputs": [],
   "source": [
    "def NonParamBootstrap(sample):\n",
    "    index = np.arange(50)\n",
    "    new = np.delete(sample, MaxIndex(Significance(sample)) - 1, 1)\n",
    "    var_num = MaxIndex(Significance(sample)) - 1\n",
    "    deltas = np.array([])\n",
    "    botstrap_generated = BootstrapGenerate(np.arange(0, 50))\n",
    "    rss1 = RSSFunc(sample)\n",
    "    rss0 = RSSFunc(new)\n",
    "    beta = BetaFunc(sample)\n",
    "    p1 = len(beta)\n",
    "    p0 = p1 - 1\n",
    "    n = len(sample)\n",
    "    for cur_indexes in botstrap_generated:\n",
    "        cur_sample_deleted = new[cur_indexes]\n",
    "        cur_sample = sample[cur_indexes]\n",
    "        cur_rss0 = RSSFunc(cur_sample_deleted)\n",
    "        cur_rss1 = RSSFunc(cur_sample)\n",
    "        d = (cur_rss0 - cur_rss1) / rss1 * (n - p1) / (p1 - p0)\n",
    "        deltas = np.append(d, deltas)\n",
    "    delt = (rss0 - rss1) / rss1 * (n - p1) / (p1 - p0)\n",
    "    return np.sum(deltas > delt) / 1000"
   ]
  },
  {
   "cell_type": "code",
   "execution_count": 113,
   "id": "224de0d9",
   "metadata": {},
   "outputs": [
    {
     "data": {
      "text/plain": [
       "0.805"
      ]
     },
     "execution_count": 113,
     "metadata": {},
     "output_type": "execute_result"
    }
   ],
   "source": [
    "NonParamBootstrap(sample)"
   ]
  },
  {
   "cell_type": "code",
   "execution_count": null,
   "id": "b5c1bd95",
   "metadata": {},
   "outputs": [],
   "source": []
  },
  {
   "cell_type": "code",
   "execution_count": null,
   "id": "30e07715",
   "metadata": {},
   "outputs": [],
   "source": []
  },
  {
   "cell_type": "code",
   "execution_count": null,
   "id": "390f2e40",
   "metadata": {},
   "outputs": [],
   "source": []
  },
  {
   "cell_type": "code",
   "execution_count": null,
   "id": "3f8ea1fa",
   "metadata": {},
   "outputs": [],
   "source": []
  },
  {
   "cell_type": "code",
   "execution_count": null,
   "id": "be3c0b08",
   "metadata": {},
   "outputs": [],
   "source": []
  },
  {
   "cell_type": "code",
   "execution_count": null,
   "id": "87fd6ab8",
   "metadata": {},
   "outputs": [],
   "source": []
  },
  {
   "cell_type": "code",
   "execution_count": 122,
   "id": "f41e7f18",
   "metadata": {},
   "outputs": [],
   "source": [
    "s = np.array([[1, 5],[2, 1], [3, -1], [4, 0], [5, -3]])"
   ]
  },
  {
   "cell_type": "code",
   "execution_count": 84,
   "id": "b7b812ec",
   "metadata": {},
   "outputs": [
    {
     "data": {
      "text/plain": [
       "18.538637260984828"
      ]
     },
     "execution_count": 84,
     "metadata": {},
     "output_type": "execute_result"
    }
   ],
   "source": [
    "tfcp = np.array([[19, 9, 6], [22, 15, 7], [14, 10, 5], [17, 3, 3], [21, 6, 6], [24, 8, 8], [23, 13, 8], [22, 4, 5], [15, 3, 6], [24, 10, 8], [15, 9, 4],  [18, 3, 3], [15, 13, 6], [20, 3, 5], [21, 16, 5]])\n",
    "\n",
    "RSSFunc(tfcp)"
   ]
  },
  {
   "cell_type": "code",
   "execution_count": 85,
   "id": "1a7d9be8",
   "metadata": {},
   "outputs": [
    {
     "data": {
      "text/plain": [
       "array([-0.30410627,  0.25227029,  0.13122568])"
      ]
     },
     "execution_count": 85,
     "metadata": {},
     "output_type": "execute_result"
    }
   ],
   "source": [
    "BetaFunc(tfcp)"
   ]
  },
  {
   "cell_type": "code",
   "execution_count": 86,
   "id": "d2901263",
   "metadata": {},
   "outputs": [
    {
     "data": {
      "text/plain": [
       "0.5034293590807635"
      ]
     },
     "execution_count": 86,
     "metadata": {},
     "output_type": "execute_result"
    }
   ],
   "source": [
    "R2Func(tfcp)"
   ]
  },
  {
   "cell_type": "code",
   "execution_count": 87,
   "id": "1c413b31",
   "metadata": {},
   "outputs": [
    {
     "data": {
      "text/plain": [
       "array([ 0.32993965, -0.21422528,  0.46006543, -1.37816572,  0.21907609,\n",
       "        1.19981386,  0.79595578, -0.77074285,  2.12637487,  0.93736251,\n",
       "       -0.66097919, -1.63043601,  0.81411811, -0.13497659, -2.09318066])"
      ]
     },
     "execution_count": 87,
     "metadata": {},
     "output_type": "execute_result"
    }
   ],
   "source": [
    "EFunc(tfcp)"
   ]
  },
  {
   "cell_type": "code",
   "execution_count": 88,
   "id": "c95f23c7",
   "metadata": {},
   "outputs": [
    {
     "name": "stdout",
     "output_type": "stream",
     "text": [
      "0.04165840825960838 < 0.7, => не существенно связано\n",
      "0.041658408259608364 < 0.7, => не существенно связано\n"
     ]
    }
   ],
   "source": [
    "MultCheck(tfcp)"
   ]
  },
  {
   "cell_type": "code",
   "execution_count": 89,
   "id": "8af0f31c",
   "metadata": {},
   "outputs": [
    {
     "data": {
      "image/png": "[encoded data removed]",
      "text/plain": [
       "<Figure size 640x480 with 1 Axes>"
      ]
     },
     "metadata": {},
     "output_type": "display_data"
    }
   ],
   "source": [
    "Boxplot(EFunc(tfcp))"
   ]
  },
  {
   "cell_type": "code",
   "execution_count": 90,
   "id": "b824ae10",
   "metadata": {},
   "outputs": [
    {
     "data": {
      "text/plain": [
       "30.91694428055767"
      ]
     },
     "execution_count": 90,
     "metadata": {},
     "output_type": "execute_result"
    }
   ],
   "source": [
    "e_t = EFunc(tfcp)\n",
    "cvss_t = CVSSFunc(tfcp)\n",
    "cvss_t"
   ]
  },
  {
   "cell_type": "code",
   "execution_count": 91,
   "id": "cab5444b",
   "metadata": {},
   "outputs": [
    {
     "data": {
      "text/plain": [
       "0.17186756391363378"
      ]
     },
     "execution_count": 91,
     "metadata": {},
     "output_type": "execute_result"
    }
   ],
   "source": [
    "R2CVSSFunc(tfcp)"
   ]
  },
  {
   "cell_type": "code",
   "execution_count": 92,
   "id": "e58b8a2b",
   "metadata": {},
   "outputs": [
    {
     "name": "stdout",
     "output_type": "stream",
     "text": [
      "4.5297535111963265\n"
     ]
    },
    {
     "data": {
      "text/plain": [
       "(2.2614565281733845, 6.798050494219268)"
      ]
     },
     "execution_count": 92,
     "metadata": {},
     "output_type": "execute_result"
    }
   ],
   "source": [
    "ConfInterval(tfcp, np.array([1, 15, 8]))"
   ]
  },
  {
   "cell_type": "code",
   "execution_count": 93,
   "id": "a588c34e",
   "metadata": {},
   "outputs": [
    {
     "name": "stdout",
     "output_type": "stream",
     "text": [
      "delta_wave =  0.42148685598440716\n"
     ]
    },
    {
     "data": {
      "text/plain": [
       "0.9737"
      ]
     },
     "execution_count": 93,
     "metadata": {},
     "output_type": "execute_result"
    }
   ],
   "source": [
    "ParametricBootstrapForKolmogorov(np.sort(e_t))"
   ]
  },
  {
   "cell_type": "code",
   "execution_count": 123,
   "id": "f18e2aca",
   "metadata": {},
   "outputs": [
    {
     "name": "stdout",
     "output_type": "stream",
     "text": [
      "delta_wave =  0.42148685598440716\n"
     ]
    },
    {
     "data": {
      "text/plain": [
       "0.9726"
      ]
     },
     "execution_count": 123,
     "metadata": {},
     "output_type": "execute_result"
    }
   ],
   "source": [
    "ParametricBootstrapForKolmogorov(eS)"
   ]
  },
  {
   "cell_type": "code",
   "execution_count": null,
   "id": "f51e9f6e",
   "metadata": {},
   "outputs": [],
   "source": []
  },
  {
   "cell_type": "code",
   "execution_count": null,
   "id": "a144373f",
   "metadata": {},
   "outputs": [],
   "source": []
  },
  {
   "cell_type": "code",
   "execution_count": null,
   "id": "39d8580a",
   "metadata": {},
   "outputs": [],
   "source": []
  },
  {
   "cell_type": "code",
   "execution_count": null,
   "id": "c5240376",
   "metadata": {},
   "outputs": [],
   "source": []
  },
  {
   "cell_type": "code",
   "execution_count": null,
   "id": "05901408",
   "metadata": {},
   "outputs": [],
   "source": []
  },
  {
   "cell_type": "code",
   "execution_count": null,
   "id": "2925f741",
   "metadata": {},
   "outputs": [],
   "source": []
  },
  {
   "cell_type": "code",
   "execution_count": null,
   "id": "3884a3b7",
   "metadata": {},
   "outputs": [],
   "source": []
  },
  {
   "cell_type": "code",
   "execution_count": null,
   "id": "fdf3f4cd",
   "metadata": {},
   "outputs": [],
   "source": []
  },
  {
   "cell_type": "code",
   "execution_count": null,
   "id": "56e66a6b",
   "metadata": {},
   "outputs": [],
   "source": []
  }
 ],
 "metadata": {
  "kernelspec": {
   "display_name": "Python 3 (ipykernel)",
   "language": "python",
   "name": "python3"
  },
  "language_info": {
   "codemirror_mode": {
    "name": "ipython",
    "version": 3
   },
   "file_extension": ".py",
   "mimetype": "text/x-python",
   "name": "python",
   "nbconvert_exporter": "python",
   "pygments_lexer": "ipython3",
   "version": "3.11.5"
  }
 },
 "nbformat": 4,
 "nbformat_minor": 5
}
