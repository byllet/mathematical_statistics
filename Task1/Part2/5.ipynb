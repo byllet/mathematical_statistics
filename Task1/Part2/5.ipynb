{
 "cells": [
  {
   "cell_type": "code",
   "execution_count": 9,
   "id": "0fe60114",
   "metadata": {},
   "outputs": [],
   "source": [
    "import numpy as np\n",
    "import matplotlib.pyplot as plt\n",
    "from scipy.stats import pareto"
   ]
  },
  {
   "cell_type": "code",
   "execution_count": 46,
   "id": "964912b2",
   "metadata": {},
   "outputs": [],
   "source": [
    "def GenerateRandomUniform(N: int):\n",
    "    array = np.random.uniform(0, 1, N)\n",
    "    array.sort()\n",
    "    return array\n",
    "\n",
    "def ModulateKsi(N: int, theta: float):\n",
    "    eta = GenerateRandomUniform(N)\n",
    "    return (1 - eta) ** (1 / (1 - theta))"
   ]
  },
  {
   "cell_type": "code",
   "execution_count": 47,
   "id": "ab093d24",
   "metadata": {},
   "outputs": [],
   "source": [
    "N = 100\n",
    "theta = 5\n",
    "generated = ModulateKsi(N, teta)"
   ]
  },
  {
   "cell_type": "code",
   "execution_count": 48,
   "id": "5f52d4df",
   "metadata": {},
   "outputs": [],
   "source": [
    "def ThetaWave(sample):\n",
    "    return  len(sample) / sum(np.log(sample)) + 1"
   ]
  },
  {
   "cell_type": "code",
   "execution_count": 108,
   "id": "1ec42b0a",
   "metadata": {},
   "outputs": [],
   "source": [
    "def ConfidenceIntervalAsymptoticMedian(sample):\n",
    "    theta_wave = ThetaWave(sample)\n",
    "    power = 1 / (theta_wave - 1)\n",
    "    powered_2 = 2 ** power\n",
    "    n = len(x)\n",
    "    same_part = 1.96 * np.log(2) * powered_2 / np.sqrt(n) / (theta_wave - 1)\n",
    "    n = len(sample)\n",
    "    left = - same_part + powered_2\n",
    "    right = same_part + powered_2\n",
    "    return left, right"
   ]
  },
  {
   "cell_type": "code",
   "execution_count": 109,
   "id": "602eca34",
   "metadata": {},
   "outputs": [
    {
     "data": {
      "text/plain": [
       "(1.1289325223252344, 1.1979800327231716)"
      ]
     },
     "execution_count": 109,
     "metadata": {},
     "output_type": "execute_result"
    }
   ],
   "source": [
    "ConfidenceIntervalAsymptoticMedian(generated)"
   ]
  },
  {
   "cell_type": "code",
   "execution_count": 110,
   "id": "45ee367b",
   "metadata": {},
   "outputs": [],
   "source": [
    "def ConfidenceIntervalAsymptoticTheta(sample):\n",
    "    theta_wave = ThetaWave(sample)\n",
    "    n = len(sample)\n",
    "    left = -1.96 * (theta_wave - 1) / n ** 0.5 + theta_wave\n",
    "    right = 1.96 * (theta_wave - 1) / n ** 0.5 + theta_wave\n",
    "    return left, right"
   ]
  },
  {
   "cell_type": "code",
   "execution_count": 111,
   "id": "f24fc9c5",
   "metadata": {},
   "outputs": [
    {
     "data": {
      "text/plain": [
       "(4.681032229186912, 6.475764360830282)"
      ]
     },
     "execution_count": 111,
     "metadata": {},
     "output_type": "execute_result"
    }
   ],
   "source": [
    "ConfidenceIntervalAsymptoticTheta(generated)"
   ]
  },
  {
   "cell_type": "code",
   "execution_count": 112,
   "id": "d866e870",
   "metadata": {},
   "outputs": [],
   "source": [
    "def BootstrapGenerate(data, n_bootstrap_samples=1000):\n",
    "    return [np.random.choice(data, size=len(data), replace=True) for _ in range(n_bootstrap_samples)]"
   ]
  },
  {
   "cell_type": "code",
   "execution_count": 113,
   "id": "38e54696",
   "metadata": {},
   "outputs": [],
   "source": [
    "def BootstrapNotParametricTheta(sample):\n",
    "    bootstrap_generated = BootstrapGenerate(sample)\n",
    "    theta_wave = ThetaWave(sample)\n",
    "    delts = []\n",
    "    for current_sample in bootstrap_generated:\n",
    "        theta_star = ThetaWave(current_sample)\n",
    "        delts.append(theta_star - theta_wave)\n",
    "    delts = np.sort(delts)\n",
    "    return (-delts[974] + theta_wave , -delts[24] + theta_wave)"
   ]
  },
  {
   "cell_type": "code",
   "execution_count": 114,
   "id": "00ba2c00",
   "metadata": {
    "scrolled": true
   },
   "outputs": [
    {
     "data": {
      "text/plain": [
       "(4.6916765707776165, 6.2082397883541205)"
      ]
     },
     "execution_count": 114,
     "metadata": {},
     "output_type": "execute_result"
    }
   ],
   "source": [
    "BootstrapNotParametricTheta(generated)"
   ]
  },
  {
   "cell_type": "code",
   "execution_count": 115,
   "id": "f1807216",
   "metadata": {},
   "outputs": [],
   "source": [
    "def BootstrapNotParametricMedian(sample):\n",
    "    botstrap_generated = BootstrapGenerate(sample)\n",
    "    theta_ = ThetaWave(sample)\n",
    "    median_star = 2 ** (1 / (theta_ -1 ))\n",
    "    delts = []\n",
    "    for current_sample in botstrap_generated:\n",
    "        delts.append(np.median(current_sample) - median_star)\n",
    "    delts = np.sort(delts)\n",
    "    return (max(-delts[974] + median_star, 0) , -delts[24] + median_star)"
   ]
  },
  {
   "cell_type": "code",
   "execution_count": 116,
   "id": "41521626",
   "metadata": {},
   "outputs": [
    {
     "data": {
      "text/plain": [
       "(1.0562286286671936, 1.1806814131504006)"
      ]
     },
     "execution_count": 116,
     "metadata": {},
     "output_type": "execute_result"
    }
   ],
   "source": [
    "BootstrapNotParametricMedian(generated)"
   ]
  },
  {
   "cell_type": "code",
   "execution_count": 117,
   "id": "30380416",
   "metadata": {},
   "outputs": [],
   "source": [
    "def ParetoGenerate(sample, N):\n",
    "    theta_wave = ThetaWave(sample)\n",
    "    n = len(sample)\n",
    "    return [ModulateKsi(n, theta_wave) for _ in range(N)]"
   ]
  },
  {
   "cell_type": "code",
   "execution_count": 118,
   "id": "1118d2d5",
   "metadata": {},
   "outputs": [],
   "source": [
    "def BootstrapParametricTheta(sample):\n",
    "    N = 50000\n",
    "    generated_with_model = ParetoGenerate(sample, N)\n",
    "    param = []\n",
    "    \n",
    "    for current_sample in generated_with_model:\n",
    "        param.append(ThetaWave(current_sample))\n",
    "    param = np.sort(param)\n",
    "    k1 = int((1 - 0.95) * N / 2) - 1\n",
    "    k2 = int((1 + 0.95) * N / 2) - 1\n",
    "    return param[k1], param[k2]"
   ]
  },
  {
   "cell_type": "code",
   "execution_count": 119,
   "id": "55f6e037",
   "metadata": {},
   "outputs": [
    {
     "data": {
      "text/plain": [
       "(4.800324027766418, 6.625861246478965)"
      ]
     },
     "execution_count": 119,
     "metadata": {},
     "output_type": "execute_result"
    }
   ],
   "source": [
    "BootstrapParametricTheta(generated)"
   ]
  },
  {
   "cell_type": "code",
   "execution_count": 120,
   "id": "ae397d53",
   "metadata": {},
   "outputs": [],
   "source": [
    "def EstimationMedian(x):\n",
    "    return np.power(2, 1 / (ThetaWave(x) - 1))\n",
    "\n",
    "def BootstrapParametricMedian(x):\n",
    "    N = 50000\n",
    "    generated_with_model = ParetoGenerate(x, N)\n",
    "    medians = []\n",
    "    for current_sample in generated_with_model:\n",
    "        medians.append(EstimationMedian(current_sample))\n",
    "    medians = np.sort(medians)\n",
    "    k1 = int((1 - 0.95) * N / 2)\n",
    "    k2 = int((1 + 0.95) * N / 2)\n",
    "    return medians[k1], medians[k2]"
   ]
  },
  {
   "cell_type": "code",
   "execution_count": 121,
   "id": "03c756f7",
   "metadata": {},
   "outputs": [
    {
     "data": {
      "text/plain": [
       "(1.1314090679741633, 1.2002824266486996)"
      ]
     },
     "execution_count": 121,
     "metadata": {},
     "output_type": "execute_result"
    }
   ],
   "source": [
    "BootstrapParametricMedian(generated)"
   ]
  },
  {
   "cell_type": "code",
   "execution_count": 122,
   "id": "994ce933",
   "metadata": {},
   "outputs": [],
   "source": [
    "def Compare(sample, func_list, names_list):\n",
    "    h = 0\n",
    "    for f in func_list:\n",
    "        left, right = f(sample)\n",
    "        x = np.linspace(left, right, len(sample))\n",
    "        y = [h] * len(x)\n",
    "        plt.plot(x, y)\n",
    "        h -= 0.1 \n",
    "    plt.legend(names_list, loc='upper right', framealpha=0.1, fontsize='x-small')\n",
    "    ax = plt.gca()\n",
    "    ax.get_yaxis().set_visible(False)"
   ]
  },
  {
   "cell_type": "code",
   "execution_count": 123,
   "id": "fc2ee93a",
   "metadata": {},
   "outputs": [
    {
     "data": {
      "image/png": "[encoded data removed]",
      "text/plain": [
       "<Figure size 640x480 with 1 Axes>"
      ]
     },
     "metadata": {},
     "output_type": "display_data"
    }
   ],
   "source": [
    "func_list_theta = [ConfidenceIntervalAsymptoticTheta, BootstrapNotParametricTheta,  BootstrapParametricTheta ]\n",
    "names_list_theta = ['ОМП', 'Непарам b', 'Парам b']\n",
    "Compare(generated, func_list_theta, names_list_theta)"
   ]
  },
  {
   "cell_type": "code",
   "execution_count": 124,
   "id": "78ad8a26",
   "metadata": {},
   "outputs": [
    {
     "data": {
      "image/png": "[encoded data removed]",
      "text/plain": [
       "<Figure size 640x480 with 1 Axes>"
      ]
     },
     "metadata": {},
     "output_type": "display_data"
    }
   ],
   "source": [
    "func_list_median = [ BootstrapParametricMedian, ConfidenceIntervalAsymptoticMedian, BootstrapNotParametricMedian]\n",
    "names_list_median = ['Парам b', 'ОМП', 'Непарам b']\n",
    "Compare(generated, func_list_median, names_list_median)"
   ]
  },
  {
   "cell_type": "code",
   "execution_count": null,
   "id": "07b036ec",
   "metadata": {},
   "outputs": [],
   "source": []
  },
  {
   "cell_type": "code",
   "execution_count": null,
   "id": "694c2bcf",
   "metadata": {},
   "outputs": [],
   "source": []
  }
 ],
 "metadata": {
  "kernelspec": {
   "display_name": "Python 3 (ipykernel)",
   "language": "python",
   "name": "python3"
  },
  "language_info": {
   "codemirror_mode": {
    "name": "ipython",
    "version": 3
   },
   "file_extension": ".py",
   "mimetype": "text/x-python",
   "name": "python",
   "nbconvert_exporter": "python",
   "pygments_lexer": "ipython3",
   "version": "3.11.5"
  }
 },
 "nbformat": 4,
 "nbformat_minor": 5
}
