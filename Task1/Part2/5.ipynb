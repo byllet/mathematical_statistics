{
 "cells": [
  {
   "cell_type": "code",
   "execution_count": 90,
   "id": "0fe60114",
   "metadata": {},
   "outputs": [],
   "source": [
    "import numpy as np\n",
    "import matplotlib.pyplot as plt"
   ]
  },
  {
   "cell_type": "code",
   "execution_count": 117,
   "id": "964912b2",
   "metadata": {},
   "outputs": [],
   "source": [
    "def GenerateRandomUniform(N: int) -> np.array:\n",
    "    array = np.random.uniform(0, 1, N)\n",
    "    array.sort()\n",
    "    return array\n",
    "\n",
    "def ModulateKsi(N: int, theta: float) -> np.array:\n",
    "    eta = GenerateRandomUniform(N)\n",
    "    return (1 - eta) ** (1 / (1 - theta))"
   ]
  },
  {
   "cell_type": "code",
   "execution_count": 118,
   "id": "ab093d24",
   "metadata": {},
   "outputs": [
    {
     "name": "stdout",
     "output_type": "stream",
     "text": [
      "θ = 3.1 \n",
      " Сгенерированная выборка =  [1.00446761 1.01103897 1.01361486 1.01520685 1.02429493 1.03334246\n",
      " 1.03810166 1.04613926 1.0478349  1.04788456 1.05416045 1.05564987\n",
      " 1.06768513 1.07703196 1.09043073 1.09692658 1.10037255 1.11672683\n",
      " 1.11877807 1.12037432 1.12065149 1.12381932 1.13359582 1.13769311\n",
      " 1.14338488 1.16602851 1.18003804 1.19239358 1.19432587 1.19518462\n",
      " 1.21239045 1.21239167 1.21632542 1.23427092 1.25079724 1.27424457\n",
      " 1.27708229 1.29502053 1.30020018 1.30257254 1.30295301 1.32808071\n",
      " 1.33183664 1.34221165 1.36798947 1.37077703 1.40132897 1.40268103\n",
      " 1.42635374 1.45303661 1.4592618  1.48010142 1.4937587  1.50429237\n",
      " 1.50744008 1.52594488 1.55723338 1.56418752 1.56568224 1.56608167\n",
      " 1.59609296 1.67319148 1.69211348 1.7376688  1.76382378 1.80942603\n",
      " 1.81835027 1.83653821 1.86531425 1.87146367 1.91963273 1.92612711\n",
      " 1.93135649 1.93748604 1.9895267  2.03906611 2.04449325 2.11744216\n",
      " 2.14179404 2.14231946 2.15605612 2.79146055 2.79884964 2.89026306\n",
      " 2.98712682 3.11247445 3.3030343  3.79877045 3.86834141 3.90237845\n",
      " 4.34114507 4.68599104 4.96132835 5.53326379 5.87844528 6.33560585\n",
      " 6.55815151 7.18268187 7.25927511 9.68908212]\n"
     ]
    }
   ],
   "source": [
    "N = 100\n",
    "theta = 3.1\n",
    "generated = ModulateKsi(N, theta)\n",
    "print(f\"θ = {theta} \\n Сгенерированная выборка = \", generated)"
   ]
  },
  {
   "cell_type": "markdown",
   "id": "fecf4fad",
   "metadata": {},
   "source": [
    "# Асимптотические доверительные интервалы. ОМП"
   ]
  },
  {
   "cell_type": "code",
   "execution_count": 119,
   "id": "5f52d4df",
   "metadata": {},
   "outputs": [],
   "source": [
    "def ThetaWave(sample):\n",
    "    return  len(sample) / sum(np.log(sample)) + 1"
   ]
  },
  {
   "cell_type": "code",
   "execution_count": 120,
   "id": "1ec42b0a",
   "metadata": {},
   "outputs": [],
   "source": [
    "def ConfidenceIntervalAsymptoticMedian(sample):\n",
    "    theta_wave = ThetaWave(sample)\n",
    "    power = 1 / (theta_wave - 1)\n",
    "    powered_2 = 2 ** power\n",
    "    n = len(sample)\n",
    "    same_part = 1.96 * np.log(2) * powered_2 / np.sqrt(n) / (theta_wave - 1)\n",
    "    n = len(sample)\n",
    "    left = - same_part + powered_2\n",
    "    right = same_part + powered_2\n",
    "    return left, right"
   ]
  },
  {
   "cell_type": "code",
   "execution_count": 121,
   "id": "602eca34",
   "metadata": {},
   "outputs": [
    {
     "name": "stdout",
     "output_type": "stream",
     "text": [
      "1.349926833587285 1.5651969476415228\n",
      "ОМП медиана. Длина = 0.2152701140542379\n"
     ]
    }
   ],
   "source": [
    "a, b = ConfidenceIntervalAsymptoticMedian(generated)\n",
    "print(a, b)\n",
    "print(\"ОМП медиана. Длина =\", b - a)"
   ]
  },
  {
   "cell_type": "code",
   "execution_count": 122,
   "id": "45ee367b",
   "metadata": {},
   "outputs": [],
   "source": [
    "def ConfidenceIntervalAsymptoticTheta(sample):\n",
    "    theta_wave = ThetaWave(sample)\n",
    "    n = len(sample)\n",
    "    left = -1.96 * (theta_wave - 1) / n ** 0.5 + theta_wave\n",
    "    right = 1.96 * (theta_wave - 1) / n ** 0.5 + theta_wave\n",
    "    return left, right"
   ]
  },
  {
   "cell_type": "code",
   "execution_count": 123,
   "id": "f24fc9c5",
   "metadata": {},
   "outputs": [
    {
     "name": "stdout",
     "output_type": "stream",
     "text": [
      "2.4791453093268387 3.2003206342722628\n",
      "ОМП θ. Длина = 0.721175324945424\n"
     ]
    }
   ],
   "source": [
    "a, b = ConfidenceIntervalAsymptoticTheta(generated)\n",
    "print(a, b)\n",
    "print(\"ОМП θ. Длина =\", b - a)"
   ]
  },
  {
   "cell_type": "markdown",
   "id": "360d2c4f",
   "metadata": {},
   "source": [
    "# Bootstrap"
   ]
  },
  {
   "cell_type": "code",
   "execution_count": 124,
   "id": "d866e870",
   "metadata": {},
   "outputs": [],
   "source": [
    "def BootstrapGenerate(data, n_bootstrap_samples=1000):\n",
    "    return [np.random.choice(data, size=len(data), replace=True) for _ in range(n_bootstrap_samples)]"
   ]
  },
  {
   "cell_type": "code",
   "execution_count": 125,
   "id": "30380416",
   "metadata": {},
   "outputs": [],
   "source": [
    "def ParetoGenerate(sample, N):\n",
    "    theta_wave = ThetaWave(sample)\n",
    "    n = len(sample)\n",
    "    return [ModulateKsi(n, theta_wave) for _ in range(N)]"
   ]
  },
  {
   "cell_type": "markdown",
   "id": "c04c1921",
   "metadata": {},
   "source": [
    "### θ bootstrap"
   ]
  },
  {
   "cell_type": "code",
   "execution_count": 126,
   "id": "1118d2d5",
   "metadata": {},
   "outputs": [],
   "source": [
    "def BootstrapParametricTheta(sample):\n",
    "    N = 50000\n",
    "    generated_with_model = ParetoGenerate(sample, N)\n",
    "    param = []\n",
    "    \n",
    "    for current_sample in generated_with_model:\n",
    "        param.append(ThetaWave(current_sample))\n",
    "    param = np.sort(param)\n",
    "    k1 = int((1 - 0.95) * N / 2) - 1\n",
    "    k2 = int((1 + 0.95) * N / 2) - 1\n",
    "    return param[k1], param[k2]"
   ]
  },
  {
   "cell_type": "code",
   "execution_count": 127,
   "id": "40567e9a",
   "metadata": {},
   "outputs": [
    {
     "name": "stdout",
     "output_type": "stream",
     "text": [
      "2.5255036916358757 3.2588539480976753\n",
      "Параметрический bootstrap θ. Длина = 0.7333502564617995\n"
     ]
    }
   ],
   "source": [
    "a, b = BootstrapParametricTheta(generated)\n",
    "print(a, b)\n",
    "print(\"Параметрический bootstrap θ. Длина =\", b - a)"
   ]
  },
  {
   "cell_type": "code",
   "execution_count": 128,
   "id": "47ffb8c0",
   "metadata": {},
   "outputs": [],
   "source": [
    "def BootstrapNotParametricTheta(sample):\n",
    "    bootstrap_generated = BootstrapGenerate(sample)\n",
    "    theta_wave = ThetaWave(sample)\n",
    "    delts = []\n",
    "    for current_sample in bootstrap_generated:\n",
    "        theta_star = ThetaWave(current_sample)\n",
    "        delts.append(theta_star - theta_wave)\n",
    "    delts = np.sort(delts)\n",
    "    return (-delts[974] + theta_wave , -delts[24] + theta_wave)"
   ]
  },
  {
   "cell_type": "code",
   "execution_count": 129,
   "id": "55f6e037",
   "metadata": {},
   "outputs": [
    {
     "name": "stdout",
     "output_type": "stream",
     "text": [
      "2.4596167976514525 3.1346513051397524\n",
      "Непараметрический bootstrap θ. Длина = 0.6750345074883\n"
     ]
    }
   ],
   "source": [
    "a, b = BootstrapNotParametricTheta(generated)\n",
    "print(a, b)\n",
    "print(\"Непараметрический bootstrap θ. Длина =\", b - a)"
   ]
  },
  {
   "cell_type": "markdown",
   "id": "2174506f",
   "metadata": {},
   "source": [
    "### Медиана bootstrap"
   ]
  },
  {
   "cell_type": "code",
   "execution_count": 130,
   "id": "ae397d53",
   "metadata": {},
   "outputs": [],
   "source": [
    "def EstimationMedian(x):\n",
    "    return np.power(2, 1 / (ThetaWave(x) - 1))\n",
    "\n",
    "def BootstrapParametricMedian(x):\n",
    "    N = 50000\n",
    "    generated_with_model = ParetoGenerate(x, N)\n",
    "    medians = []\n",
    "    for current_sample in generated_with_model:\n",
    "        medians.append(EstimationMedian(current_sample))\n",
    "    medians = np.sort(medians)\n",
    "    k1 = int((1 - 0.95) * N / 2) - 1\n",
    "    k2 = int((1 + 0.95) * N / 2) - 1\n",
    "    return medians[k1], medians[k2]"
   ]
  },
  {
   "cell_type": "code",
   "execution_count": 131,
   "id": "0d90f1e4",
   "metadata": {},
   "outputs": [
    {
     "name": "stdout",
     "output_type": "stream",
     "text": [
      "1.3589536221637506 1.573923639851883\n",
      "Параметрический bootstrap медиана. Длина = 0.2149700176881324\n"
     ]
    }
   ],
   "source": [
    "a, b = BootstrapParametricMedian(generated)\n",
    "print(a, b)\n",
    "print(\"Параметрический bootstrap медиана. Длина =\", b - a)"
   ]
  },
  {
   "cell_type": "code",
   "execution_count": 132,
   "id": "f343796d",
   "metadata": {},
   "outputs": [],
   "source": [
    "def BootstrapNonParametricMedian(sample):\n",
    "    botstrap_generated = BootstrapGenerate(sample)\n",
    "    theta_ = ThetaWave(sample)\n",
    "    median_star = 2 ** (1 / (theta_ -1 ))\n",
    "    delts = []\n",
    "    for current_sample in botstrap_generated:\n",
    "        delts.append(np.median(current_sample) - median_star)\n",
    "    delts = np.sort(delts)\n",
    "    return (max(-delts[974] + median_star, 0) , -delts[24] + median_star)"
   ]
  },
  {
   "cell_type": "code",
   "execution_count": 133,
   "id": "03c756f7",
   "metadata": {},
   "outputs": [
    {
     "name": "stdout",
     "output_type": "stream",
     "text": [
      "1.3589536221637506 1.573923639851883\n",
      "Непараметрический bootstrap медиана. Длина = 0.2149700176881324\n"
     ]
    }
   ],
   "source": [
    "BootstrapNonParametricMedian(generated)\n",
    "print(a, b)\n",
    "print(\"Непараметрический bootstrap медиана. Длина =\", b - a)"
   ]
  },
  {
   "cell_type": "markdown",
   "id": "1218fb98",
   "metadata": {},
   "source": [
    "# Сравнение "
   ]
  },
  {
   "cell_type": "code",
   "execution_count": 134,
   "id": "994ce933",
   "metadata": {},
   "outputs": [],
   "source": [
    "def Compare(sample, func_list, names_list):\n",
    "    h = 0\n",
    "    for f in func_list:\n",
    "        left, right = f(sample)\n",
    "        x = np.linspace(left, right, len(sample))\n",
    "        y = [h] * len(x)\n",
    "        plt.plot(x, y)\n",
    "        h -= 0.1 \n",
    "    plt.legend(names_list, loc='upper right', framealpha=0.1, fontsize='x-small')\n",
    "    ax = plt.gca()\n",
    "    ax.get_yaxis().set_visible(False)"
   ]
  },
  {
   "cell_type": "markdown",
   "id": "6c9fb1f2",
   "metadata": {},
   "source": [
    "### Сравнение доверительных интервалов θ"
   ]
  },
  {
   "cell_type": "code",
   "execution_count": 135,
   "id": "fc2ee93a",
   "metadata": {},
   "outputs": [
    {
     "data": {
      "image/png": "[encoded data removed]",
      "text/plain": [
       "<Figure size 640x480 with 1 Axes>"
      ]
     },
     "metadata": {},
     "output_type": "display_data"
    }
   ],
   "source": [
    "func_list_theta = [ConfidenceIntervalAsymptoticTheta, BootstrapNotParametricTheta,  BootstrapParametricTheta ]\n",
    "names_list_theta = ['ОМП', 'Непарам b', 'Парам b']\n",
    "Compare(generated, func_list_theta, names_list_theta)"
   ]
  },
  {
   "cell_type": "markdown",
   "id": "dc0516d0",
   "metadata": {},
   "source": [
    "### Сравнение доверительных интервалов для медианы "
   ]
  },
  {
   "cell_type": "code",
   "execution_count": 136,
   "id": "78ad8a26",
   "metadata": {},
   "outputs": [
    {
     "data": {
      "image/png": "[encoded data removed]",
      "text/plain": [
       "<Figure size 640x480 with 1 Axes>"
      ]
     },
     "metadata": {},
     "output_type": "display_data"
    }
   ],
   "source": [
    "func_list_median = [ BootstrapParametricMedian, ConfidenceIntervalAsymptoticMedian, BootstrapNonParametricMedian]\n",
    "names_list_median = ['Парам b', 'ОМП', 'Непарам b']\n",
    "Compare(generated, func_list_median, names_list_median)"
   ]
  }
 ],
 "metadata": {
  "kernelspec": {
   "display_name": "Python 3 (ipykernel)",
   "language": "python",
   "name": "python3"
  },
  "language_info": {
   "codemirror_mode": {
    "name": "ipython",
    "version": 3
   },
   "file_extension": ".py",
   "mimetype": "text/x-python",
   "name": "python",
   "nbconvert_exporter": "python",
   "pygments_lexer": "ipython3",
   "version": "3.11.5"
  }
 },
 "nbformat": 4,
 "nbformat_minor": 5
}
